{
 "cells": [
  {
   "cell_type": "markdown",
   "id": "apparent-scout",
   "metadata": {},
   "source": [
    "# Significant words\n",
    "\n",
    "https://moodle2.uni-leipzig.de/pluginfile.php/2889299/mod_resource/content/0/distant_readingII.pdf"
   ]
  },
  {
   "cell_type": "code",
   "execution_count": 1,
   "id": "premier-petersburg",
   "metadata": {},
   "outputs": [
    {
     "name": "stdout",
     "output_type": "stream",
     "text": [
      "exact match shapes (1819808, 5)\n"
     ]
    }
   ],
   "source": [
    "import pandas as pd\n",
    "\n",
    "exact_matches = pd.read_parquet(\"../results/artists_exact_match_large.parquet\", engine='pyarrow')\n",
    "assert \"artists\" in exact_matches.columns, f'artists is not in {exact_matches.columns}'\n",
    "assert \"num_artists\" in exact_matches.columns, f'num_artists is not in {exact_matches.columns}'\n",
    "\n",
    "print(f'exact match shapes {exact_matches.shape}')\n",
    "\n",
    "import my_utils\n",
    "\n",
    "\n",
    "artist_mentions = pd.read_parquet('../results/artist_mentions.parquet', engine='pyarrow')"
   ]
  },
  {
   "cell_type": "code",
   "execution_count": 2,
   "id": "subsequent-minnesota",
   "metadata": {},
   "outputs": [],
   "source": [
    "import wordcloud\n",
    "from collections import defaultdict\n",
    "import re\n",
    "\n",
    "def read_stopwords():\n",
    "    # from https://gist.github.com/sebleier/554280\n",
    "    return my_utils.read_lines_as_list(\"stopwords.txt\")\n",
    "\n",
    "def compute_corpus(df, col):\n",
    "    # print(sw)\n",
    "    corpus = []\n",
    "    for i, row in df.iterrows():\n",
    "        string = row[col]\n",
    "        words = []\n",
    "        for s in re.split(\"[, \\-!?:\\.]+\", string):\n",
    "            s=s.strip().lower()\n",
    "            if len(s)>0:\n",
    "                words.append(s)\n",
    "        corpus.append(\" \".join(words))\n",
    "    return corpus\n",
    "    "
   ]
  },
  {
   "cell_type": "code",
   "execution_count": 3,
   "id": "smaller-preliminary",
   "metadata": {},
   "outputs": [
    {
     "name": "stdout",
     "output_type": "stream",
     "text": [
      "exact matches columns Index(['prompt', 'image_name', 'user_name', 'artists', 'num_artists'], dtype='object')\n",
      "1819808\n",
      "beautiful porcelain ivory fair face woman biomechanical cyborg, close - up, sharp focus, studio light, iris van herpen haute couture headdress made of rhizomorphs, daisies, brackets, colorful corals, fractal mushrooms, puffballs, octane render, ultra sharp, 8 k \n",
      "180080\n",
      "rimworld concept art isometric perspective, epic, by victo ngai, kilian eng vibrant colours, dynamic lighting, digital art, winning award masterpiece, fantastically beautiful, illustration, inspired by beksinski and dan mumford, trending on artstation, by greg rutkowski, 8 k \n"
     ]
    }
   ],
   "source": [
    "print(f'exact matches columns {exact_matches.columns}')\n",
    "corpus = exact_matches.prompt.to_list()\n",
    "print(len(corpus))\n",
    "print(corpus[0])\n",
    "corpus_greg = my_utils.exact_match_dataframe(exact_matches, \"greg rutkowski\").prompt.to_list()\n",
    "print(len(corpus_greg))\n",
    "print(corpus_greg[0])"
   ]
  },
  {
   "cell_type": "code",
   "execution_count": 4,
   "id": "exterior-district",
   "metadata": {},
   "outputs": [],
   "source": [
    "stopwords = read_stopwords()\n",
    "stopwords.append(\"greg\")\n",
    "stopwords.append(\"rutkowski\")"
   ]
  },
  {
   "cell_type": "code",
   "execution_count": 6,
   "id": "naval-microwave",
   "metadata": {},
   "outputs": [
    {
     "name": "stdout",
     "output_type": "stream",
     "text": [
      "1819808 documents\n",
      "171526 words\n",
      "['00' '000' '0000' ... '𝙁𝙧𝙞𝙚𝙙𝙧𝙞𝙘𝙝' '𝟖𝖐' '𝟭𝟴𝟬𝟬']\n"
     ]
    }
   ],
   "source": [
    "from sklearn.feature_extraction.text import TfidfVectorizer\n",
    "\n",
    "\n",
    "vectorizer = TfidfVectorizer(stop_words=stopwords)\n",
    "X = vectorizer.fit_transform(corpus)\n",
    "feature_names = vectorizer.get_feature_names_out()\n",
    "print(f'{X.shape[0]} documents')\n",
    "print(f'{X.shape[1]} words')\n",
    "print(feature_names)"
   ]
  },
  {
   "cell_type": "code",
   "execution_count": 9,
   "id": "obvious-meter",
   "metadata": {},
   "outputs": [
    {
     "name": "stdout",
     "output_type": "stream",
     "text": [
      "(1, 171526)\n",
      "1.2021336090849347e-05\n",
      "                tf_idf  query_mentions\n",
      "art           0.030218          475447\n",
      "detailed      0.025573          517319\n",
      "painting      0.020543          338546\n",
      "artstation    0.020055          385409\n",
      "portrait      0.018501          320059\n",
      "highly        0.015804          264516\n",
      "digital       0.015709          246244\n",
      "lighting      0.014851          246205\n",
      "beautiful     0.014053          214221\n",
      "trending      0.013705          215987\n",
      "concept       0.013324          206185\n",
      "style         0.013126          180015\n",
      "intricate     0.012837          213336\n",
      "realistic     0.012733          176837\n",
      "illustration  0.012186          177965\n",
      "cinematic     0.011968          182323\n",
      "render        0.011903          169551\n",
      "sharp         0.011878          189600\n",
      "focus         0.011560          174561\n",
      "high          0.011499          153974\n"
     ]
    }
   ],
   "source": [
    "import pandas as pd\n",
    "\n",
    "word_weight_indices = X.nonzero()[1]\n",
    "word_occurences = defaultdict(lambda: 0)\n",
    "for w in word_weight_indices:\n",
    "    word_occurences[w]=word_occurences[w]+1\n",
    "\n",
    "mean_tf_idfs = X.mean(axis=0)\n",
    "print(mean_tf_idfs.shape)\n",
    "mapping={}\n",
    "print(mean_tf_idfs[0,0])\n",
    "for index, fn in enumerate(feature_names):\n",
    "    mapping[fn]=[mean_tf_idfs[0,index], word_occurences[index]]\n",
    "\n",
    "df = pd.DataFrame.from_dict(mapping, orient=\"index\", columns = [\"tf_idf\", \"query_mentions\"])\n",
    "\n",
    "df.sort_values(\"tf_idf\", axis=0, ascending=False, inplace=True)\n",
    "print(df.head(20))"
   ]
  },
  {
   "cell_type": "markdown",
   "id": "framed-helmet",
   "metadata": {},
   "source": [
    "## Tf Idf Rankings computed of the corpus only containing the greg rutkowski prompts"
   ]
  },
  {
   "cell_type": "code",
   "execution_count": 10,
   "id": "analyzed-processor",
   "metadata": {},
   "outputs": [
    {
     "name": "stdout",
     "output_type": "stream",
     "text": [
      "180080 documents\n",
      "41006 words\n",
      "['00' '000' '000000' ... '薯子' '薯子imoko' '香川悠作']\n",
      "(1, 41006)\n",
      "1.7522102420448725e-05\n",
      "total number of words 180080\n",
      "                tf_idf  query_mentions\n",
      "art           0.060725          108263\n",
      "detailed      0.040576          103229\n",
      "artstation    0.037570           95503\n",
      "painting      0.036490           80979\n",
      "digital       0.033992           72623\n",
      "highly        0.033163           72394\n",
      "concept       0.031882           67277\n",
      "focus         0.031796           59835\n",
      "artgerm       0.031199           66388\n",
      "sharp         0.030984           65132\n",
      "illustration  0.030967           58076\n",
      "portrait      0.030363           65358\n",
      "intricate     0.029254           60660\n",
      "mucha         0.028124           54367\n",
      "alphonse      0.027742           52495\n",
      "fantasy       0.025377           41814\n",
      "trending      0.024032           43613\n",
      "smooth        0.021364           34830\n",
      "lighting      0.021268           37852\n",
      "elegant       0.021204           34036\n"
     ]
    }
   ],
   "source": [
    "from sklearn.feature_extraction.text import TfidfVectorizer\n",
    "\n",
    "\n",
    "\n",
    "vectorizer_greg = TfidfVectorizer(stop_words=stopwords)\n",
    "X_greg = vectorizer_greg.fit_transform(corpus_greg)\n",
    "feature_names_greg = vectorizer_greg.get_feature_names_out()\n",
    "print(f'{X_greg.shape[0]} documents')\n",
    "print(f'{X_greg.shape[1]} words')\n",
    "print(feature_names_greg)\n",
    "\n",
    "import pandas as pd\n",
    "\n",
    "from collections import defaultdict\n",
    "\n",
    "word_weight_indices_greg = X_greg.nonzero()[1]\n",
    "word_occurences_greg = defaultdict(lambda: 0)\n",
    "for w in word_weight_indices_greg:\n",
    "    word_occurences_greg[w]=word_occurences_greg[w]+1\n",
    "\n",
    "mean_tf_idfs_greg = X_greg.mean(axis=0)\n",
    "print(mean_tf_idfs_greg.shape)\n",
    "mapping_greg={}\n",
    "print(mean_tf_idfs_greg[0,0])\n",
    "for index, fn in enumerate(feature_names_greg):\n",
    "    mapping_greg[fn]=[mean_tf_idfs_greg[0,index], word_occurences_greg[index]]\n",
    "\n",
    "df_greg = pd.DataFrame.from_dict(mapping_greg, orient=\"index\", columns = [\"tf_idf\", \"query_mentions\"])\n",
    "\n",
    "df_greg.sort_values(\"tf_idf\", axis=0, ascending=False, inplace=True)\n",
    "print(f'total number of words {len(corpus_greg)}')\n",
    "print(df_greg.head(20))"
   ]
  },
  {
   "cell_type": "code",
   "execution_count": 11,
   "id": "statutory-reputation",
   "metadata": {},
   "outputs": [
    {
     "name": "stdout",
     "output_type": "stream",
     "text": [
      "(171526, 6)\n",
      "   word_plain  tf_idf_plain  query_mentions word_artist  tf_idf_artist  \\\n",
      "0         art      0.030218          475447         art       0.060725   \n",
      "1    detailed      0.025573          517319    detailed       0.040576   \n",
      "2    painting      0.020543          338546  artstation       0.037570   \n",
      "3  artstation      0.020055          385409    painting       0.036490   \n",
      "4    portrait      0.018501          320059     digital       0.033992   \n",
      "\n",
      "   query_mentions  \n",
      "0        108263.0  \n",
      "1        103229.0  \n",
      "2         95503.0  \n",
      "3         80979.0  \n",
      "4         72623.0  \n",
      "tail\n",
      "       word_plain  tf_idf_plain  query_mentions word_artist  tf_idf_artist  \\\n",
      "171521     dawnin  3.039500e-08               1         NaN            NaN   \n",
      "171522    lantana  2.899673e-08               1         NaN            NaN   \n",
      "171523   portmans  2.899673e-08               1         NaN            NaN   \n",
      "171524     finded  2.486355e-08               1         NaN            NaN   \n",
      "171525  731006521  1.232770e-08               1         NaN            NaN   \n",
      "\n",
      "        query_mentions  \n",
      "171521             NaN  \n",
      "171522             NaN  \n",
      "171523             NaN  \n",
      "171524             NaN  \n",
      "171525             NaN  \n"
     ]
    },
    {
     "data": {
      "image/png": "[encoded data removed]",
      "text/plain": [
       "<Figure size 2000x600 with 1 Axes>"
      ]
     },
     "metadata": {},
     "output_type": "display_data"
    }
   ],
   "source": [
    "import visualize_rankings as vr\n",
    "    \n",
    "ranking_amount=20    \n",
    "vr.visualize_tf_idf_rankings(mapping, mapping_greg, \"Greg Rutkowski\", ranking_amount)"
   ]
  },
  {
   "cell_type": "markdown",
   "id": "material-rouge",
   "metadata": {},
   "source": [
    "# the average tf*idf is not computed over the non_zero values\n",
    "\n",
    "When computing only over non_zero weights, we get total garbage (low frequency words)."
   ]
  },
  {
   "cell_type": "code",
   "execution_count": 12,
   "id": "global-advantage",
   "metadata": {},
   "outputs": [
    {
     "name": "stdout",
     "output_type": "stream",
     "text": [
      "should be 62: 62\n",
      "(1, 171526)\n",
      "0.35284715465832867\n",
      "                                      tf_idf  query_mentions\n",
      "msi                                      1.0               1\n",
      "piratesofthecarribeandavyjoneslocker     1.0               1\n",
      "strawbasil                               1.0               1\n",
      "foobar                                   1.0               1\n",
      "jewelpet                                 1.0               1\n",
      "            tf_idf  query_mentions\n",
      "plumbus   0.642911             147\n",
      "bundt     0.599701             148\n",
      "funniest  0.590097             136\n",
      "neymar    0.585640             118\n",
      "img       0.581835             109\n"
     ]
    }
   ],
   "source": [
    "# mean of non-zero\n",
    "import numpy as np\n",
    "\n",
    "sums = np.sum(X, axis=0)\n",
    "\n",
    "nonzero_mean = sums\n",
    "\n",
    "from collections import defaultdict\n",
    "\n",
    "word_weight_indices = X.nonzero()[1]\n",
    "word_occurences = defaultdict(lambda: 0)\n",
    "for w in word_weight_indices:\n",
    "    word_occurences[w]=word_occurences[w]+1\n",
    "\n",
    "for index in range (nonzero_mean.shape[1]): #iterate over the elements\n",
    "    amount_nonzero = word_occurences[index]\n",
    "    if index==0:\n",
    "        print(f'should be 62: {amount_nonzero}')\n",
    "        assert amount_nonzero == 62\n",
    "    tf_idf_sum = sums[0, index]\n",
    "    nonzero_mean[0, index] = tf_idf_sum / amount_nonzero\n",
    "\n",
    "\n",
    "mean_tf_idfs = nonzero_mean\n",
    "print(mean_tf_idfs.shape)\n",
    "mapping={}\n",
    "print(mean_tf_idfs[0,0])\n",
    "for index, fn in enumerate(feature_names):\n",
    "    mapping[fn]=[mean_tf_idfs[0,index], word_occurences[index]]\n",
    "\n",
    "df = pd.DataFrame.from_dict(mapping, orient=\"index\", columns = [\"tf_idf\", \"query_mentions\"])\n",
    "\n",
    "df.sort_values(\"tf_idf\", axis=0, ascending=False, inplace=True)\n",
    "print(df.head())\n",
    "print(df[df[\"query_mentions\"]>100].head())"
   ]
  },
  {
   "cell_type": "code",
   "execution_count": null,
   "id": "assured-hawaii",
   "metadata": {},
   "outputs": [
    {
     "name": "stdout",
     "output_type": "stream",
     "text": [
      "(array([      0,       0,       0, ..., 1819807, 1819807, 1819807],\n",
      "      dtype=int32), array([156179, 125508, 108201, ..., 111590,  61803, 144630], dtype=int32))\n",
      "(30385455,)\n",
      "(30385455,)\n",
      "finished\n",
      "(array([ 375467,  400323,  400324,  599848,  621304,  666468,  667988,\n",
      "        669696,  679267,  706823,  903454,  903455,  903456, 1045087,\n",
      "       1181732, 1212395, 1212396, 1212397, 1247311, 1247312, 1282279,\n",
      "       1282830, 1290757, 1316384, 1394953, 1397215, 1397216, 1399255,\n",
      "       1434904, 1436079, 1474652, 1512482, 1513107, 1513108, 1594213,\n",
      "       1594734, 1595675, 1595676, 1595677, 1595678, 1596355, 1597346,\n",
      "       1597347, 1597348, 1597349, 1597350, 1674239, 1674240, 1674241,\n",
      "       1674796, 1798147, 1798148, 1798697, 1798698, 1804526, 1804572,\n",
      "       1804642, 1804643, 1804962, 1804963, 1804964, 1804965], dtype=int32), array([0, 0, 0, 0, 0, 0, 0, 0, 0, 0, 0, 0, 0, 0, 0, 0, 0, 0, 0, 0, 0, 0,\n",
      "       0, 0, 0, 0, 0, 0, 0, 0, 0, 0, 0, 0, 0, 0, 0, 0, 0, 0, 0, 0, 0, 0,\n",
      "       0, 0, 0, 0, 0, 0, 0, 0, 0, 0, 0, 0, 0, 0, 0, 0, 0, 0], dtype=int32))\n",
      "(62,)\n",
      "(62,)\n",
      "(1819808, 1)\n",
      "  (375467, 0)\t0.39737095757265145\n",
      "  (400323, 0)\t0.5860466164683547\n",
      "  (400324, 0)\t0.46955219976397966\n",
      "  (599848, 0)\t0.2218084777901613\n",
      "  (621304, 0)\t0.3337951302758392\n",
      "  (666468, 0)\t0.8191798114067349\n",
      "  (667988, 0)\t0.2516559412971819\n",
      "  (669696, 0)\t0.3508927913415992\n",
      "  (679267, 0)\t0.3508927913415992\n",
      "  (706823, 0)\t0.3300888924097487\n",
      "  (903454, 0)\t0.3344296614158616\n",
      "  (903455, 0)\t0.4164065677939107\n",
      "  (903456, 0)\t0.4164065677939107\n",
      "  (1045087, 0)\t0.24787651291979548\n",
      "  (1181732, 0)\t0.26123865215418374\n",
      "  (1212395, 0)\t0.18184802263832428\n",
      "  (1212396, 0)\t0.1914677547456773\n",
      "  (1212397, 0)\t0.10292456959799615\n",
      "  (1247311, 0)\t0.14582920998407042\n",
      "  (1247312, 0)\t0.10482293855245353\n",
      "  (1282279, 0)\t0.48573748181353604\n",
      "  (1282830, 0)\t0.13412609219860908\n",
      "  (1290757, 0)\t0.3467719153569805\n",
      "  (1316384, 0)\t0.3698880365499282\n",
      "  (1394953, 0)\t0.49672501104053557\n",
      "  :\t:\n",
      "  (1595676, 0)\t0.7280883003799509\n",
      "  (1595677, 0)\t0.7156980792233221\n",
      "  (1595678, 0)\t0.7080369546272179\n",
      "  (1596355, 0)\t0.36395336305341136\n",
      "  (1597346, 0)\t0.44874165055588394\n",
      "  (1597347, 0)\t0.46228832715406765\n",
      "  (1597348, 0)\t0.4327205974519699\n",
      "  (1597349, 0)\t0.45616060384113766\n",
      "  (1597350, 0)\t0.44639444067753775\n",
      "  (1674239, 0)\t0.23974141788701395\n",
      "  (1674240, 0)\t0.2390844267574768\n",
      "  (1674241, 0)\t0.23991730500337566\n",
      "  (1674796, 0)\t0.24669547998274188\n",
      "  (1798147, 0)\t0.37067180456851745\n",
      "  (1798148, 0)\t0.3681206404268076\n",
      "  (1798697, 0)\t0.3876043557515257\n",
      "  (1798698, 0)\t0.3876043557515257\n",
      "  (1804526, 0)\t0.24460434739327155\n",
      "  (1804572, 0)\t0.2722534899196629\n",
      "  (1804642, 0)\t0.22801402703845736\n",
      "  (1804643, 0)\t0.23767178205866563\n",
      "  (1804962, 0)\t0.22965732494289398\n",
      "  (1804963, 0)\t0.2280767783672095\n",
      "  (1804964, 0)\t0.21322824150126396\n",
      "  (1804965, 0)\t0.2280767783672095\n"
     ]
    }
   ],
   "source": [
    "from collections import defaultdict\n",
    "print(X.nonzero())\n",
    "print(X.nonzero()[0].shape)\n",
    "print(X.nonzero()[1].shape)\n",
    "word_weight_indices = X.nonzero()[1]\n",
    "word_occurences = defaultdict(lambda: 0)\n",
    "for w in word_weight_indices:\n",
    "    word_occurences[w]=word_occurences[w]+1\n",
    "print('finished')\n",
    "    \n",
    "    \n",
    "col0=X.getcol(0)\n",
    "nz = col0.nonzero()\n",
    "print(nz)\n",
    "print(nz[0].shape)\n",
    "print(nz[1].shape)\n",
    "print(col0.shape)\n",
    "print(col0)\n",
    "\n",
    "\n",
    "\n",
    "inverse = vectorizer.inverse_transform(X)\n",
    "print(inverse)\n",
    "print(inverse.shape)"
   ]
  },
  {
   "cell_type": "markdown",
   "id": "descending-negative",
   "metadata": {},
   "source": [
    "# Check if results are really different from frequency ranking\n",
    "\n",
    "Yes they are different but not by much."
   ]
  },
  {
   "cell_type": "code",
   "execution_count": null,
   "id": "religious-reaction",
   "metadata": {},
   "outputs": [],
   "source": [
    "from collections import defaultdict\n",
    "import re\n",
    "\n",
    "def read_stopwords():\n",
    "    # from https://gist.github.com/sebleier/554280\n",
    "    return my_utils.read_lines_as_list(\"stopwords.txt\")\n",
    "\n",
    "def compute_freq(df, col):\n",
    "    sw = read_stopwords()\n",
    "    # print(sw)\n",
    "    freq = defaultdict(lambda: 0)\n",
    "    for i, row in df.iterrows():\n",
    "        string = row[col]\n",
    "        for s in re.split(\"[, \\-!?:]+\", string):\n",
    "            s=s.strip().lower()\n",
    "            if s not in sw:\n",
    "                if len(s)>0:\n",
    "                    freq[s]=freq[s]+1\n",
    "    return freq\n",
    "    \n",
    "def remove(freqs, words):\n",
    "    \n",
    "    result = defaultdict(lambda: 0)\n",
    "    for key, value in freqs.items():\n",
    "        #print(f'key {key}, value {value}')\n",
    "        if key not in words:\n",
    "            result[key]=value\n",
    "    return result\n",
    "\n",
    "freqs = compute_freq(exact_matches, \"prompt\")\n",
    "freqs = remove(freqs, [\"greg\", \"rutkowski\"])\n",
    "print(f'finished')\n",
    "\n",
    "freqs_df = pd.DataFrame.from_dict(freqs, orient=\"index\", columns = [\"counts_plain\"])\n",
    "freqs_df.index.name = 'word_plain'\n",
    "\n",
    "freqs_df.sort_values(\"counts_plain\", axis=0, ascending=False, inplace=True)\n",
    "#freqs_df['length']=freqs_df.word_plain.apply(lambda x: len(x))\n",
    "freqs_df.reset_index(inplace=True)\n",
    "freqs_sum = freqs_df.counts_plain.sum()\n",
    "freqs_df['frequency_plain']=freqs_df.counts_plain.apply(lambda x: x / freqs_sum)\n",
    "\n",
    "print(freqs_df.head(20))"
   ]
  },
  {
   "cell_type": "code",
   "execution_count": null,
   "id": "chemical-cooking",
   "metadata": {},
   "outputs": [],
   "source": []
  }
 ],
 "metadata": {
  "kernelspec": {
   "display_name": "my env conda",
   "language": "python",
   "name": "conda"
  },
  "language_info": {
   "codemirror_mode": {
    "name": "ipython",
    "version": 3
   },
   "file_extension": ".py",
   "mimetype": "text/x-python",
   "name": "python",
   "nbconvert_exporter": "python",
   "pygments_lexer": "ipython3",
   "version": "3.10.9"
  }
 },
 "nbformat": 4,
 "nbformat_minor": 5
}

{
 "cells": [
  {
   "cell_type": "markdown",
   "id": "balanced-creature",
   "metadata": {},
   "source": [
    "Friedensreich Regentag Dunkelbunt Hundertwasser\n",
    "\n",
    "maybe this name is too complicated/long\n",
    "\n",
    "does Hundertwasser occur in the dataset?\n",
    "\n"
   ]
  },
  {
   "cell_type": "code",
   "execution_count": 8,
   "id": "alternative-furniture",
   "metadata": {},
   "outputs": [],
   "source": [
    "import pandas as pd\n",
    "#df = pd.read_parquet('sources/metadata.parquet', engine='pyarrow')\n",
    "df_large = pd.read_parquet('../sources/metadata-large.parquet', engine='pyarrow')\n",
    "\n",
    "exact_matches = pd.read_parquet(\"../results/artists_exact_match_large.parquet\", engine='pyarrow')\n",
    "assert \"artists\" in exact_matches.columns, f'artists is not in {exact_matches.columns}'\n",
    "assert \"num_artists\" in exact_matches.columns, f'num_artists is not in {exact_matches.columns}'\n",
    "\n",
    "\n",
    "# read excel_artist_names\n",
    "import my_utils\n",
    "\n",
    "excel_artist_names = my_utils.read_lines_as_list(\"../sources/excel_artists_copy_paste_name.txt\")\n",
    "hundred_artist_names = excel_artist_names[0:100]\n",
    "ten_artist_names = excel_artist_names[0:10]\n",
    "\n",
    "\n",
    "artist_mentions = pd.read_parquet('../results/artist_mentions.parquet', engine='pyarrow')"
   ]
  },
  {
   "cell_type": "code",
   "execution_count": 15,
   "id": "controlling-recovery",
   "metadata": {},
   "outputs": [
    {
     "name": "stdout",
     "output_type": "stream",
     "text": [
      "prompts that contain hundertwasser\n",
      "found in 616 prompts\n",
      "769357       a futuristic city, drawn in the style of Hundertwasser\n",
      "769358    A mediterranean city, drawn in the style of Hundertwasser\n",
      "769359    A mediterranean city, drawn in the style of Hundertwasser\n",
      "769360    A mediterranean city, drawn in the style of Hundertwasser\n",
      "769361    A mediterranean city, drawn in the style of Hundertwasser\n",
      "Name: prompt, dtype: object\n"
     ]
    }
   ],
   "source": [
    "print(\"prompts that contain hundertwasser\")\n",
    "#pd.set_option('display.max_rows', 500)\n",
    "#pd.set_option('display.max_columns', 500)\n",
    "#pd.set_option('display.width', 1000)\n",
    "\n",
    "pd.options.display.max_colwidth = 1000\n",
    "\n",
    "\n",
    "name = \"Hundertwasser\"\n",
    "\n",
    "name = name.lower()\n",
    "result = df_large.copy()\n",
    "  \n",
    "result['included'] = result['prompt'].map(lambda p: True if name in p.lower() else False)\n",
    "    \n",
    "assert \"included\" in result.columns, f'included is not in {result.columns}'\n",
    "\n",
    "result = result.loc[result['included'] == True]\n",
    "\n",
    "print(f'found in {result.shape[0]} prompts')\n",
    "print(result[\"prompt\"].head())\n",
    "\n",
    "# thus we need to rename him in excel_artists_copy_paste_name\n",
    "# Friedensreich Regentag Dunkelbunt Hundertwasser to Hundertwasser"
   ]
  },
  {
   "cell_type": "code",
   "execution_count": null,
   "id": "vocal-expense",
   "metadata": {},
   "outputs": [],
   "source": []
  }
 ],
 "metadata": {
  "kernelspec": {
   "display_name": "my env conda",
   "language": "python",
   "name": "conda"
  },
  "language_info": {
   "codemirror_mode": {
    "name": "ipython",
    "version": 3
   },
   "file_extension": ".py",
   "mimetype": "text/x-python",
   "name": "python",
   "nbconvert_exporter": "python",
   "pygments_lexer": "ipython3",
   "version": "3.10.9"
  }
 },
 "nbformat": 4,
 "nbformat_minor": 5
}

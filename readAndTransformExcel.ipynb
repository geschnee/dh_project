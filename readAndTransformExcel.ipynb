{
 "cells": [
  {
   "cell_type": "code",
   "execution_count": 60,
   "id": "opponent-pierce",
   "metadata": {},
   "outputs": [],
   "source": [
    "import pandas as pd\n",
    "#pip install openpyxl\n",
    "#https://stackoverflow.com/questions/75440354/why-does-pandas-read-excel-fail-on-an-openpyxl-error-saying-readonlyworksheet\n",
    "#pip install --force-reinstall -v \"openpyxl==3.1.0\"\n",
    "#restart kernel"
   ]
  },
  {
   "cell_type": "code",
   "execution_count": 61,
   "id": "pressing-borough",
   "metadata": {},
   "outputs": [
    {
     "name": "stdout",
     "output_type": "stream",
     "text": [
      "['nice to see you here 🦜🦾', 'This data is maintained by @sureailabs, @proximasan, @EErratica, and @KyrickYoung as part our ongoing Image Synthesis Style Studies project, started in Feb 2022. Its purpose is to document artist names and other prompt modifier keywords (see tabs) that are recognized by AI text-to-image synthesis models, such as the CLIP models used in Disco Diffusion and Stable Diffusion. We are not afilliated with the development or training of these models.\\n\\nYou can view outputs and more information about this project is available at parrotzone.art 🦜🦾', 'Unnamed: 2', 'Unnamed: 3', 'Unnamed: 4', 'Unnamed: 5', 'Unnamed: 6', 'Unnamed: 7', \"Do NOT request edit permissions. We do not grant these. If you'd like to recommend a modifier not already on this sheet (to verify, search with CTRL+F), you can use this form: 🎟️ Artist Recommendations \\n\\nAll styles tested for CLIP in Disco Diffusion, v4.1, but should have similarly successful results in any platform where OpenAI's CLIP models are used. Default settings used including ViTB32, ViTB16, RN50. Some studies used ViTL14 and cutn_batches = 4. Each study uses a different random seed. Images are 1280x1024 each, generated in 250 steps.\", 'Unnamed: 9', 'Unnamed: 10', 'Unnamed: 11', 'Unnamed: 12', 'Unnamed: 13']\n"
     ]
    }
   ],
   "source": [
    "df = pd.read_excel('../Data/artists_list.xlsx')\n",
    "\n",
    "column_names = df.columns.tolist()\n",
    "print(column_names)"
   ]
  },
  {
   "cell_type": "code",
   "execution_count": 62,
   "id": "hairy-consent",
   "metadata": {},
   "outputs": [
    {
     "name": "stdout",
     "output_type": "stream",
     "text": [
      "           Unnamed: 2                                  Unnamed: 7\n",
      "0                 NaN  Other modifier studies: 767\\n(CLIP, tab 2)\n",
      "1     Copy/Paste Name                   Tags \\n(work-in-progress)\n",
      "2         Alvar Aalto                 architecture, high contrast\n",
      "3         Slim Aarons                 vibrant, photography, scene\n",
      "4  Edwin Austin Abbey                              scene, realism\n"
     ]
    }
   ],
   "source": [
    "df = pd.read_excel('../Data/artists_list.xlsx', usecols=['Unnamed: 2', 'Unnamed: 7'])\n",
    "print(df.head())"
   ]
  },
  {
   "cell_type": "code",
   "execution_count": 63,
   "id": "charged-biotechnology",
   "metadata": {},
   "outputs": [
    {
     "name": "stdout",
     "output_type": "stream",
     "text": [
      "                artists                         tags\n",
      "2           Alvar Aalto  architecture, high contrast\n",
      "3           Slim Aarons  vibrant, photography, scene\n",
      "4    Edwin Austin Abbey               scene, realism\n",
      "5  Gertrude Abercrombie            surrealism, dark,\n",
      "6      Marina Abramović           scene, photography\n"
     ]
    }
   ],
   "source": [
    "#rename the column names\n",
    "df.columns = ['artists', 'tags']\n",
    "\n",
    "#and statrt from row 2\n",
    "df = df.iloc[2:]\n",
    "\n",
    "print(df.head())"
   ]
  },
  {
   "cell_type": "code",
   "execution_count": 64,
   "id": "balanced-apartment",
   "metadata": {},
   "outputs": [],
   "source": [
    "#new columns and create new excel\n",
    "df.to_excel('../Data/artists_list_new.xlsx', index=False)"
   ]
  },
  {
   "cell_type": "code",
   "execution_count": 65,
   "id": "statistical-corrections",
   "metadata": {},
   "outputs": [
    {
     "name": "stdout",
     "output_type": "stream",
     "text": [
      "                artists                         tags\n",
      "0           Alvar Aalto  architecture, high contrast\n",
      "1           Slim Aarons  vibrant, photography, scene\n",
      "2    Edwin Austin Abbey               scene, realism\n",
      "3  Gertrude Abercrombie            surrealism, dark,\n",
      "4      Marina Abramović           scene, photography\n"
     ]
    }
   ],
   "source": [
    "############################\n",
    "#read new excel\n",
    "dfNew = pd.read_excel('../Data/artists_list_new.xlsx')\n",
    "print(dfNew.head())\n",
    "#first should be Alvar Aalto; architecture, high contrast"
   ]
  },
  {
   "cell_type": "code",
   "execution_count": 66,
   "id": "republican-upper",
   "metadata": {},
   "outputs": [
    {
     "name": "stdout",
     "output_type": "stream",
     "text": [
      "             Afrofuturism\n",
      "0               ASCII art\n",
      "1            Abstract art\n",
      "2                Art Brut\n",
      "3  Abstract expressionism\n",
      "4    Abstract illusionism\n"
     ]
    }
   ],
   "source": [
    "############################\n",
    "#read styles excel\n",
    "dfStyles = pd.read_excel('../Data/styles_list.xlsx')\n",
    "print(dfStyles.head())"
   ]
  },
  {
   "cell_type": "code",
   "execution_count": 67,
   "id": "important-swaziland",
   "metadata": {},
   "outputs": [
    {
     "name": "stdout",
     "output_type": "stream",
     "text": [
      "                   styles\n",
      "0               ASCII art\n",
      "1            Abstract art\n",
      "2                Art Brut\n",
      "3  Abstract expressionism\n",
      "4    Abstract illusionism\n",
      "                   styles\n",
      "0               ascii art\n",
      "1            abstract art\n",
      "2                art brut\n",
      "3  abstract expressionism\n",
      "4    abstract illusionism\n"
     ]
    }
   ],
   "source": [
    "#rename column\n",
    "dfStyles.columns = ['styles']\n",
    "print(dfStyles.head())\n",
    "\n",
    "#lowercase\n",
    "dfStyles = dfStyles.applymap(lambda x: x.lower())\n",
    "print(dfStyles.head())"
   ]
  },
  {
   "cell_type": "code",
   "execution_count": 68,
   "id": "chinese-fetish",
   "metadata": {},
   "outputs": [
    {
     "name": "stdout",
     "output_type": "stream",
     "text": [
      "object\n",
      "               artists tags\n",
      "353      Jonas Burgert  NaN\n",
      "471       Jean Cocteau  NaN\n",
      "472    Clifford Coffin  NaN\n",
      "473    Gregory Colbert  NaN\n",
      "499       Dave Coverly  NaN\n",
      "...                ...  ...\n",
      "3480       Yosuke Ueno  NaN\n",
      "3481  George Underwood  NaN\n",
      "3482     Kelly Vivanco  NaN\n",
      "3484    Angelina Wrona  NaN\n",
      "3485  Vania Zouravliov  NaN\n",
      "\n",
      "[976 rows x 2 columns]\n"
     ]
    }
   ],
   "source": [
    "##################################\n",
    "#convert floats and NaN to string\n",
    "print(dfNew['tags'].dtype)\n",
    "mask = dfNew['tags'].isna()\n",
    "print(dfNew[mask])\n",
    "dfNew.loc[mask, 'tags'] = dfNew.loc[mask, 'tags'].astype(str)"
   ]
  },
  {
   "cell_type": "code",
   "execution_count": 69,
   "id": "matched-output",
   "metadata": {},
   "outputs": [
    {
     "name": "stdout",
     "output_type": "stream",
     "text": [
      "                   artists                    tags\n",
      "0            Aaron Douglas                  cubism\n",
      "1           Aaron Jasinski     pop art, surrealism\n",
      "2            Aaron Siskind             photography\n",
      "3     Abbott Fuller Graves    impressionism, scene\n",
      "4  Abbott Handerson Thayer  romanticism, symbolism\n"
     ]
    }
   ],
   "source": [
    "######################################\n",
    "#pip install pandasql\n",
    "#pip install --upgrade SQLAlchemy==1.4.46\n",
    "#https://stackoverflow.com/questions/75315117/attributeerror-connection-object-has-no-attribute-connect-when-use-df-to-sq\n",
    "#since 2.0 throws errors\n",
    "from pandasql import sqldf\n",
    "\n",
    "#split tags in rows\n",
    "dfNewSplit = dfNew.assign(tags=dfNew.tags.str.split(\", \")).explode('tags').reset_index(drop=True)\n",
    "\n",
    "#query as a string\n",
    "query = \"\"\"\n",
    "SELECT artists, GROUP_CONCAT(tags, ', ') as tags\n",
    "FROM (SELECT artists, tags\n",
    "    FROM dfNewSplit a\n",
    "    JOIN dfStyles s\n",
    "    ON s.styles LIKE '%' || a.tags || '%'\n",
    "    and a.tags != '-' and a.tags != ''\n",
    "    GROUP BY 1, 2\n",
    ")\n",
    "GROUP BY artists\n",
    "\"\"\"\n",
    "\n",
    "#execute query and store the result in a new dataframe\n",
    "filtered_dfNew = sqldf(query)\n",
    "\n",
    "#write the result to an Excel file\n",
    "filtered_dfNew.to_excel('../Data/filtered_artists_list_new.xlsx', index=False)\n",
    "\n",
    "#print the result\n",
    "print(filtered_dfNew.head())\n"
   ]
  }
 ],
 "metadata": {
  "kernelspec": {
   "display_name": "Python 3",
   "language": "python",
   "name": "python3"
  },
  "language_info": {
   "codemirror_mode": {
    "name": "ipython",
    "version": 3
   },
   "file_extension": ".py",
   "mimetype": "text/x-python",
   "name": "python",
   "nbconvert_exporter": "python",
   "pygments_lexer": "ipython3",
   "version": "3.8.8"
  }
 },
 "nbformat": 4,
 "nbformat_minor": 5
}

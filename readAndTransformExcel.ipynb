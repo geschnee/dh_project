{
 "cells": [
  {
   "cell_type": "code",
   "execution_count": 31,
   "id": "unique-function",
   "metadata": {},
   "outputs": [],
   "source": [
    "import pandas as pd\n",
    "#pip install openpyxl\n",
    "#https://stackoverflow.com/questions/75440354/why-does-pandas-read-excel-fail-on-an-openpyxl-error-saying-readonlyworksheet\n",
    "#pip install --force-reinstall -v \"openpyxl==3.1.0\"\n",
    "#restart kernel"
   ]
  },
  {
   "cell_type": "code",
   "execution_count": 32,
   "id": "thorough-pendant",
   "metadata": {},
   "outputs": [
    {
     "name": "stdout",
     "output_type": "stream",
     "text": [
      "['nice to see you here 🦜🦾', 'This data is maintained by @sureailabs, @proximasan, @EErratica, and @KyrickYoung as part our ongoing Image Synthesis Style Studies project, started in Feb 2022. Its purpose is to document artist names and other prompt modifier keywords (see tabs) that are recognized by AI text-to-image synthesis models, such as the CLIP models used in Disco Diffusion and Stable Diffusion. We are not afilliated with the development or training of these models.\\n\\nYou can view outputs and more information about this project is available at parrotzone.art 🦜🦾', 'Unnamed: 2', 'Unnamed: 3', 'Unnamed: 4', 'Unnamed: 5', 'Unnamed: 6', 'Unnamed: 7', \"Do NOT request edit permissions. We do not grant these. If you'd like to recommend a modifier not already on this sheet (to verify, search with CTRL+F), you can use this form: 🎟️ Artist Recommendations \\n\\nAll styles tested for CLIP in Disco Diffusion, v4.1, but should have similarly successful results in any platform where OpenAI's CLIP models are used. Default settings used including ViTB32, ViTB16, RN50. Some studies used ViTL14 and cutn_batches = 4. Each study uses a different random seed. Images are 1280x1024 each, generated in 250 steps.\", 'Unnamed: 9', 'Unnamed: 10', 'Unnamed: 11', 'Unnamed: 12', 'Unnamed: 13']\n"
     ]
    }
   ],
   "source": [
    "df = pd.read_excel('../Data/artists_list.xlsx')\n",
    "\n",
    "column_names = df.columns.tolist()\n",
    "print(column_names)"
   ]
  },
  {
   "cell_type": "code",
   "execution_count": 33,
   "id": "impaired-adoption",
   "metadata": {},
   "outputs": [
    {
     "name": "stdout",
     "output_type": "stream",
     "text": [
      "           Unnamed: 2                                  Unnamed: 7\n",
      "0                 NaN  Other modifier studies: 767\\n(CLIP, tab 2)\n",
      "1     Copy/Paste Name                   Tags \\n(work-in-progress)\n",
      "2         Alvar Aalto                 architecture, high contrast\n",
      "3         Slim Aarons                 vibrant, photography, scene\n",
      "4  Edwin Austin Abbey                              scene, realism\n"
     ]
    }
   ],
   "source": [
    "df = pd.read_excel('../Data/artists_list.xlsx', usecols=['Unnamed: 2', 'Unnamed: 7'])\n",
    "print(df.head())"
   ]
  },
  {
   "cell_type": "code",
   "execution_count": 34,
   "id": "thousand-composition",
   "metadata": {},
   "outputs": [
    {
     "name": "stdout",
     "output_type": "stream",
     "text": [
      "                artists                         tags\n",
      "2           Alvar Aalto  architecture, high contrast\n",
      "3           Slim Aarons  vibrant, photography, scene\n",
      "4    Edwin Austin Abbey               scene, realism\n",
      "5  Gertrude Abercrombie            surrealism, dark,\n",
      "6      Marina Abramović           scene, photography\n"
     ]
    }
   ],
   "source": [
    "#rename the column names\n",
    "df.columns = ['artists', 'tags']\n",
    "\n",
    "#and statrt from row 2\n",
    "df = df.iloc[2:]\n",
    "\n",
    "print(df.head())"
   ]
  },
  {
   "cell_type": "code",
   "execution_count": 35,
   "id": "negative-chancellor",
   "metadata": {},
   "outputs": [],
   "source": [
    "#new columns and create new excel\n",
    "df.to_excel('../Data/artists_list_new.xlsx', index=False)"
   ]
  },
  {
   "cell_type": "code",
   "execution_count": 38,
   "id": "ignored-exclusive",
   "metadata": {},
   "outputs": [
    {
     "name": "stdout",
     "output_type": "stream",
     "text": [
      "                artists                         tags\n",
      "0           Alvar Aalto  architecture, high contrast\n",
      "1           Slim Aarons  vibrant, photography, scene\n",
      "2    Edwin Austin Abbey               scene, realism\n",
      "3  Gertrude Abercrombie            surrealism, dark,\n",
      "4      Marina Abramović           scene, photography\n"
     ]
    }
   ],
   "source": [
    "############################\n",
    "#read new excel\n",
    "dfNew = pd.read_excel('../Data/artists_list_new.xlsx')\n",
    "print(dfNew.head())\n",
    "#first should be Alvar Aalto; architecture, high contrast"
   ]
  },
  {
   "cell_type": "code",
   "execution_count": 40,
   "id": "operating-brunei",
   "metadata": {},
   "outputs": [
    {
     "name": "stdout",
     "output_type": "stream",
     "text": [
      "             Afrofuturism\n",
      "0               ASCII art\n",
      "1            Abstract art\n",
      "2                Art Brut\n",
      "3  Abstract expressionism\n",
      "4    Abstract illusionism\n"
     ]
    }
   ],
   "source": [
    "############################\n",
    "#read styles excel\n",
    "dfStyles = pd.read_excel('../Data/styles_list.xlsx')\n",
    "print(dfStyles.head())"
   ]
  },
  {
   "cell_type": "code",
   "execution_count": 42,
   "id": "sophisticated-library",
   "metadata": {},
   "outputs": [
    {
     "name": "stdout",
     "output_type": "stream",
     "text": [
      "                   styles\n",
      "0               ASCII art\n",
      "1            Abstract art\n",
      "2                Art Brut\n",
      "3  Abstract expressionism\n",
      "4    Abstract illusionism\n",
      "                   styles\n",
      "0               ascii art\n",
      "1            abstract art\n",
      "2                art brut\n",
      "3  abstract expressionism\n",
      "4    abstract illusionism\n"
     ]
    }
   ],
   "source": [
    "dfStyles.columns = ['styles']\n",
    "print(dfStyles.head())\n",
    "\n",
    "#lowercase\n",
    "dfStyles = dfStyles.applymap(lambda x: x.lower())\n",
    "print(dfStyles.head())"
   ]
  },
  {
   "cell_type": "code",
   "execution_count": 43,
   "id": "mighty-ladder",
   "metadata": {},
   "outputs": [
    {
     "name": "stderr",
     "output_type": "stream",
     "text": [
      "<ipython-input-43-4e14a29118e9>:1: UserWarning: This pattern is interpreted as a regular expression, and has match groups. To actually get the groups, use str.extract.\n",
      "  tagInStyles = dfNew['tags'].str.contains('|'.join(dfStyles['styles']), case=False)\n"
     ]
    }
   ],
   "source": [
    "#tagInStyles = dfNew['tags'].str.contains('|'.join(dfStyles['styles']), case=False)\n",
    "    \n"
   ]
  },
  {
   "cell_type": "code",
   "execution_count": null,
   "id": "still-mentor",
   "metadata": {},
   "outputs": [],
   "source": []
  }
 ],
 "metadata": {
  "kernelspec": {
   "display_name": "Python 3",
   "language": "python",
   "name": "python3"
  },
  "language_info": {
   "codemirror_mode": {
    "name": "ipython",
    "version": 3
   },
   "file_extension": ".py",
   "mimetype": "text/x-python",
   "name": "python",
   "nbconvert_exporter": "python",
   "pygments_lexer": "ipython3",
   "version": "3.8.8"
  }
 },
 "nbformat": 4,
 "nbformat_minor": 5
}

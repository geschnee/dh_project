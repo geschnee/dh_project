{
 "cells": [
  {
   "cell_type": "code",
   "execution_count": null,
   "id": "enhanced-monster",
   "metadata": {},
   "outputs": [],
   "source": [
    "import pandas as pd\n",
    "df = pd.read_parquet('metadata_files/metadata.parquet', engine='pyarrow')\n",
    "\n",
    "# read excel_artist_names\n",
    "import my_utils\n",
    "\n",
    "excel_artist_names = my_utils.read_lines_as_list(\"excel_painters_copy_paste_name.txt\")\n",
    "hundred_artist_names = my_utils.read_lines_as_list(\"100_copy_paste_names.txt\")\n",
    "ten_artist_names = my_utils.read_lines_as_list(\"10_copy_paste_names.txt\")"
   ]
  },
  {
   "cell_type": "code",
   "execution_count": null,
   "id": "excellent-police",
   "metadata": {},
   "outputs": [],
   "source": [
    "df.shape"
   ]
  },
  {
   "cell_type": "code",
   "execution_count": null,
   "id": "balanced-daniel",
   "metadata": {},
   "outputs": [],
   "source": [
    "len(df[\"prompt\"].unique())"
   ]
  },
  {
   "cell_type": "markdown",
   "id": "disturbed-disabled",
   "metadata": {},
   "source": [
    "# Exact matching"
   ]
  },
  {
   "cell_type": "code",
   "execution_count": null,
   "id": "boolean-premises",
   "metadata": {},
   "outputs": [],
   "source": [
    "import my_utils\n",
    "\n",
    "\n",
    "pd.options.display.max_colwidth = 1000\n",
    "\n",
    "painter_exact_match_list = dict()\n",
    "\n",
    "counter = 0\n",
    "\n",
    "for name in ten_artist_names:\n",
    "    exact_matches = my_utils.exact_match_dataframe(df, name)\n",
    "    \n",
    "    painter_exact_match_list[name] = exact_matches.shape[0]\n",
    "    #print(f'{name} exact match found {painter_exact_match_list[name]} times')\n",
    "    \n",
    "    counter += 1\n",
    "    if counter % 1000 == 0:\n",
    "        print(counter)\n",
    "\n",
    "padding = 10\n",
    "\n",
    "print(\"artists with no exact match:\")\n",
    "for name, occs in painter_exact_match_list.items():\n",
    "    if occs == 0:\n",
    "        lastname = name.split(\" \")[-1]\n",
    "        print(f'{name} --> lastname: {lastname}')\n",
    "        lastname_matches = my_utils.exact_match_dataframe(df, lastname)\n",
    "        if lastname_matches.shape[0] > 0:\n",
    "            #print(lastname_matches[\"prompt\"].head())\n",
    "            for index, row in lastname_matches.iterrows():\n",
    "                startindex = row['prompt'].index(lastname) -padding if row['prompt'].index(lastname) - padding > 0 else 0\n",
    "                end = row['prompt'].index(lastname) + len(lastname) + padding if row['prompt'].index(lastname) + len(lastname) + padding < len(row[\"prompt\"]) else len(row[\"prompt\"])\n",
    "                # print(row['prompt'][startindex:end])\n",
    "                \n",
    "\n",
    "with open(\"names_exact_match_amount_100.txt\", \"w\") as f:\n",
    "    # sort descending\n",
    "    artist_occ_list = [(occs, artist) for artist, occs in painter_exact_match_list.items()]\n",
    "    artist_occ_list.sort(key=lambda x: x[0], reverse=True)\n",
    "    for entry in artist_occ_list:\n",
    "        f.write(f'{entry[1]}: {entry[0]}\\n')\n",
    "            \n",
    "            "
   ]
  },
  {
   "cell_type": "code",
   "execution_count": null,
   "id": "clinical-attendance",
   "metadata": {},
   "outputs": [],
   "source": [
    "import my_utils\n",
    "\n",
    "# reload the list from file\n",
    "painter_exact_match_list = my_utils.read_occurences_list(\"names_exact_match_amount_all_artists.txt\")\n",
    "#print(painter_exact_match_list)"
   ]
  },
  {
   "cell_type": "code",
   "execution_count": null,
   "id": "exact-colors",
   "metadata": {},
   "outputs": [],
   "source": [
    "\n",
    "import matplotlib.pyplot as plt\n",
    "\n",
    "\n",
    "occs = list(painter_exact_match_list.values())\n",
    "occs.sort(reverse=True)\n",
    "\n",
    "x_data = range(len(occs))\n",
    "y_data = occs\n",
    "\n",
    "fig = plt.figure()\n",
    "ax = fig.add_subplot(1, 1, 1)\n",
    "ax.plot(x_data, y_data)\n",
    "ax.set_xlabel('Rank')\n",
    "ax.set_ylabel('Occurences')\n",
    "ax.set_title('Occurences Distribution')\n",
    "\n",
    "plt.show()\n"
   ]
  },
  {
   "cell_type": "code",
   "execution_count": null,
   "id": "contemporary-democrat",
   "metadata": {},
   "outputs": [],
   "source": [
    "import my_utils\n",
    "\n",
    "\n",
    "pd.options.display.max_colwidth = 1000\n",
    "\n",
    "name = \"greg rutkowski\"\n",
    "exact_matches = my_utils.exact_match_dataframe(df, name)\n",
    "\n",
    "print(f'{name} exact match found {exact_matches.shape[0]} times')\n",
    "print(f'some prompts:')\n",
    "print(exact_matches.head(10)[\"prompt\"])"
   ]
  },
  {
   "cell_type": "markdown",
   "id": "shaped-maldives",
   "metadata": {},
   "source": [
    "## Top Artist exact matching"
   ]
  },
  {
   "cell_type": "code",
   "execution_count": null,
   "id": "legal-carbon",
   "metadata": {},
   "outputs": [],
   "source": [
    "import matplotlib.pyplot as plt\n",
    "\n",
    "top_x = 10\n",
    "\n",
    "artist_occ_list = [(occs, artist) for artist, occs in painter_exact_match_list.items()]\n",
    "artist_occ_list.sort(key=lambda x: x[0], reverse=True)\n",
    "\n",
    "\n",
    "fig = plt.figure(figsize=(16,9))\n",
    "ax = fig.add_subplot(1, 1, 1) # fig.add_axes([0,0,1,1])\n",
    "names = [x[1] for x in artist_occ_list[0:top_x]]\n",
    "values = [x[0] for x in artist_occ_list[0:top_x]]\n",
    "ax.bar(names,values)\n",
    "plt.show()\n",
    "# print(artist_occ_list[0:top_x])"
   ]
  },
  {
   "cell_type": "code",
   "execution_count": null,
   "id": "ordinary-marker",
   "metadata": {},
   "outputs": [],
   "source": [
    "import my_utils\n",
    "\n",
    "# to check what is currently being loaded via my_utils: (need to restart the kernel to get the changes in my_utils updated)\n",
    "print(dir(my_utils))"
   ]
  },
  {
   "cell_type": "markdown",
   "id": "immediate-franklin",
   "metadata": {},
   "source": [
    "## Exact Matching Covariance Matrix"
   ]
  },
  {
   "cell_type": "code",
   "execution_count": null,
   "id": "animated-intelligence",
   "metadata": {},
   "outputs": [],
   "source": [
    "painter_names = ten_artist_names\n",
    "\n",
    "cols = [\"prompt\", \"image_name\"]\n",
    "\n",
    "occurences =  pd.DataFrame(columns=cols)\n",
    "for name in painter_names:\n",
    "    # create new column for each painter with default value 0\n",
    "    occurences[painter_names] = 0\n",
    "\n",
    "print(occurences)\n",
    "\n",
    "cp = df.copy()\n",
    "\n",
    "cp['painters'] = cp['prompt'].map(\n",
    "        lambda p: my_utils.extract_painters_exact(p, artist_list))\n",
    "\n",
    "for entry in cp:\n",
    "    print(entry)\n",
    "    occurences[entry['image_name']] = entry['image_name']\n",
    "    \n",
    "    for name in entry['painters']:\n",
    "        occurences[name] = 1\n",
    "\n",
    "# https://www.w3resource.com/pandas/dataframe/dataframe-cov.php\n",
    "occurences.cov()"
   ]
  },
  {
   "cell_type": "markdown",
   "id": "crude-discipline",
   "metadata": {},
   "source": [
    "# Fuzzy Matching"
   ]
  },
  {
   "cell_type": "code",
   "execution_count": null,
   "id": "affiliated-indonesian",
   "metadata": {},
   "outputs": [],
   "source": [
    "import time\n",
    "import my_utils\n",
    "\n",
    "starttime = time.time()\n",
    "\n",
    "n = 1000\n",
    "similarity_threshold = 0.8\n",
    "\n",
    "df_reduced = df.head(n).copy()\n",
    "assert df_reduced.shape[0] == n, f'shape is {df_reduced.shape[0]}'\n",
    "\n",
    "artist_list = hundred_artist_names\n",
    "df_reduced['painters'] = df_reduced['prompt'].map(\n",
    "        lambda p: my_utils.extract_painters_fuzzy(p, artist_list, similarity_threshold))\n",
    "df_reduced.to_parquet(f'{n}_entries.parquet')\n",
    "df_reduced.to_csv(f'{n}_entries.csv')\n",
    "\n",
    "duration = (time.time()-starttime)\n",
    "print(f'processing took {duration/60} minutes, average {duration/n} seconds per row for {len(artist_list)} artists')\n",
    "\n",
    "goal = 1600000\n",
    "print(f'for {goal} entries it would take approximately {duration/n * goal / 60 / 60} hours')\n",
    "\n",
    "\n",
    "df_reduced['painters_amount'] = df_reduced['painters'].apply(\n",
    "        lambda query: len(query))\n",
    "    \n",
    "entries_with_painters = df_reduced.loc[df_reduced['painters_amount'] > 0, [\"image_name\", \"prompt\",\"user_name\",\"painters\",\"painters_amount\"]]\n",
    "entries_with_painters.to_parquet(\"painters_filtered.parquet\")\n",
    "entries_with_painters.to_csv(\"painters_filtered.csv\")\n",
    "\n",
    "# prognose: 933.333333333 stunden für den gesamten Datensatz (mit allen Namen aus )\n",
    "\n",
    "# prognose: 0.11 * 1600000 /60 /60 = 48 stunden für nur die Namen aus 100_copy_paste_names.txt"
   ]
  },
  {
   "cell_type": "code",
   "execution_count": null,
   "id": "paperback-julian",
   "metadata": {},
   "outputs": [],
   "source": []
  }
 ],
 "metadata": {
  "kernelspec": {
   "display_name": "my env conda",
   "language": "python",
   "name": "conda"
  },
  "language_info": {
   "codemirror_mode": {
    "name": "ipython",
    "version": 3
   },
   "file_extension": ".py",
   "mimetype": "text/x-python",
   "name": "python",
   "nbconvert_exporter": "python",
   "pygments_lexer": "ipython3",
   "version": "3.10.9"
  }
 },
 "nbformat": 4,
 "nbformat_minor": 5
}

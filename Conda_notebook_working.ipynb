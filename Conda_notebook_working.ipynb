{
 "cells": [
  {
   "cell_type": "code",
   "execution_count": null,
   "id": "unlimited-independence",
   "metadata": {},
   "outputs": [],
   "source": [
    "import pandas as pd\n",
    "df = pd.read_parquet('metadata_files/metadata.parquet', engine='pyarrow')"
   ]
  },
  {
   "cell_type": "code",
   "execution_count": null,
   "id": "impossible-sitting",
   "metadata": {},
   "outputs": [],
   "source": [
    "df"
   ]
  },
  {
   "cell_type": "code",
   "execution_count": null,
   "id": "acknowledged-teacher",
   "metadata": {},
   "outputs": [],
   "source": [
    "df.shape"
   ]
  },
  {
   "cell_type": "code",
   "execution_count": null,
   "id": "spatial-profit",
   "metadata": {},
   "outputs": [],
   "source": [
    "len(df[\"prompt\"].unique())"
   ]
  },
  {
   "cell_type": "code",
   "execution_count": null,
   "id": "adjustable-aspect",
   "metadata": {},
   "outputs": [],
   "source": [
    "# read 1000 firstnames\n",
    "names = []\n",
    "f = open(\"1000_firstnames.txt\", \"r\")\n",
    "for x in f.readlines():\n",
    "  n = x[0:-1]\n",
    "  if len(n) >= 3:\n",
    "      names.append(n)\n",
    "# print(names)\n",
    "\n",
    "import time\n",
    "\n",
    "counter = 0\n",
    "starttime = time.time()\n",
    "\n",
    "import re\n",
    "def name(str):\n",
    "    global counter\n",
    "    if counter > 1000:\n",
    "        return \"False\"\n",
    "    if counter % 1000== 0:\n",
    "        print(f'{counter} {(time.time()-starttime)/60} minutes')\n",
    "    counter += 1\n",
    "    splits = [x for x in re.split(';|,|\\.| |:', str) if len(x)>0]\n",
    "    #print(splits)\n",
    "    for n in names:\n",
    "        for s in splits:\n",
    "            if n == s.strip():\n",
    "                #print(n)\n",
    "                return n\n",
    "    return \"False\"\n",
    "\n",
    "df['firstname'] = df['prompt'].map(\n",
    "        lambda p: name(p))\n",
    "\n",
    "no_firstnames = df.loc[df['firstname'] == \"False\"]\n",
    "firstnames = df.loc[df['firstname'] != \"False\"]\n",
    "\n",
    "print(firstnames[[\"prompt\", \"firstname\"]])\n",
    "\n",
    "firstnames.to_parquet(\"firstnames.parquet\")\n",
    "firstnames.to_csv(\"firstnames.csv\")\n"
   ]
  },
  {
   "cell_type": "code",
   "execution_count": null,
   "id": "million-accountability",
   "metadata": {},
   "outputs": [],
   "source": [
    "df['artist'] = df['prompt'].apply(\n",
    "        lambda query: 'greg' if \"greg rutkowski\" in query else query)"
   ]
  },
  {
   "cell_type": "code",
   "execution_count": null,
   "id": "hybrid-phrase",
   "metadata": {},
   "outputs": [],
   "source": [
    "given_authors = [\"greg rutkowsky\", \"Vincent van Gogh\", \"Banksy\", \"Salvador Dalí\"]\n",
    "given_authors = [x.lower() for x in given_authors]\n",
    "\n",
    "similarity_threshold = 0.6\n",
    "\n",
    "from difflib import SequenceMatcher as SM\n",
    "\n",
    "def author_included(ga, parts):\n",
    "    author_components = ga.split(\" \")\n",
    "    components_found = 0\n",
    "    for ac in author_components:\n",
    "        for p in parts:\n",
    "            # print(f'{p} {ac} {SM(None, p, ac).ratio()}')\n",
    "            if SM(None, p, ac).ratio() >= similarity_threshold: ## fuzzy comparison possible here\n",
    "                components_found += 1\n",
    "                break\n",
    "    if components_found == len(author_components):\n",
    "        return True\n",
    "    else:\n",
    "        return False\n",
    "\n",
    "import re\n",
    "def extract_authors(str):\n",
    "    authors = []\n",
    "    parts = re.split(';|,|\\.| |:', str.lower())\n",
    "    print(parts)\n",
    "    for ga in given_authors:\n",
    "        if author_included(ga, parts):\n",
    "            authors.append(ga)\n",
    "    \n",
    "    return authors\n",
    "\n",
    "print(extract_authors(\"artwork by greg rutkowsky\"))\n",
    "print()\n",
    "print(extract_authors(\"artwork, by greg rutzky\"))\n",
    "print()\n",
    "print(extract_authors(\"artwork by greg rutkowsky and Salvador Dalí\"))\n",
    "print()\n",
    "print(extract_authors(\"artwork by greg rutkowsky and Salvador Dalí and Banksy\"))\n",
    "print()\n",
    "print(extract_authors(\"banksy\"))\n",
    "\n",
    "\n",
    "    "
   ]
  },
  {
   "cell_type": "code",
   "execution_count": null,
   "id": "basic-clause",
   "metadata": {},
   "outputs": [],
   "source": [
    "gregs = df.loc[df['artist'] == \"greg\"]"
   ]
  },
  {
   "cell_type": "code",
   "execution_count": null,
   "id": "floating-divorce",
   "metadata": {},
   "outputs": [],
   "source": [
    "pd.options.display.max_colwidth = 1000"
   ]
  },
  {
   "cell_type": "code",
   "execution_count": null,
   "id": "aware-convertible",
   "metadata": {},
   "outputs": [],
   "source": [
    "print(gregs[\"prompt\"])"
   ]
  },
  {
   "cell_type": "code",
   "execution_count": null,
   "id": "engaging-saskatchewan",
   "metadata": {},
   "outputs": [],
   "source": [
    "gregs.shape"
   ]
  },
  {
   "cell_type": "code",
   "execution_count": null,
   "id": "activated-university",
   "metadata": {},
   "outputs": [],
   "source": [
    "df['artist'] = df['prompt'].apply(\n",
    "        lambda query: 'banksy' if \"banksy\" in query else query)\n",
    "banksy = df.loc[df['artist'] == \"banksy\"]\n",
    "banksy[[\"prompt\", \"artist\"]]"
   ]
  },
  {
   "cell_type": "code",
   "execution_count": null,
   "id": "indian-jungle",
   "metadata": {},
   "outputs": [],
   "source": [
    "firstnames_reload = pd.read_parquet('firstnames.parquet', engine='pyarrow')\n",
    "firstnames_reload # works as intended"
   ]
  },
  {
   "cell_type": "code",
   "execution_count": null,
   "id": "legal-white",
   "metadata": {},
   "outputs": [],
   "source": []
  }
 ],
 "metadata": {
  "kernelspec": {
   "display_name": "my env conda",
   "language": "python",
   "name": "conda"
  },
  "language_info": {
   "codemirror_mode": {
    "name": "ipython",
    "version": 3
   },
   "file_extension": ".py",
   "mimetype": "text/x-python",
   "name": "python",
   "nbconvert_exporter": "python",
   "pygments_lexer": "ipython3",
   "version": "3.10.9"
  }
 },
 "nbformat": 4,
 "nbformat_minor": 5
}

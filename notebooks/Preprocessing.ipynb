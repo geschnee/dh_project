{
 "cells": [
  {
   "cell_type": "code",
   "execution_count": 1,
   "id": "spare-malawi",
   "metadata": {},
   "outputs": [],
   "source": [
    "import pandas as pd\n",
    "df = pd.read_parquet('../sources/metadata.parquet', engine='pyarrow')\n",
    "df_large = pd.read_parquet('../sources/metadata-large.parquet', engine='pyarrow')\n",
    "\n",
    "\n",
    "# read excel_artist_names\n",
    "import my_utils\n",
    "artist_info = pd.read_csv(\"../sources/artist_info.csv\", sep=\"\\t\")\n",
    "\n",
    "for col in artist_info.columns:\n",
    "    if \"Unnamed\" in col:\n",
    "        artist_info.drop(col, axis=1, inplace=True)"
   ]
  },
  {
   "cell_type": "code",
   "execution_count": 2,
   "id": "bronze-meditation",
   "metadata": {},
   "outputs": [
    {
     "name": "stdout",
     "output_type": "stream",
     "text": [
      "      lastname     firstname               cp_name  \\\n",
      "0        Aalto         Alvar           Alvar Aalto   \n",
      "1       Aarons          Slim           Slim Aarons   \n",
      "2        Abbey  Edwin Austin    Edwin Austin Abbey   \n",
      "3  Abercrombie      Gertrude  Gertrude Abercrombie   \n",
      "4    Abramović        Marina      Marina Abramović   \n",
      "\n",
      "                          tags pseudonyms  \n",
      "0  architecture, high contrast        NaN  \n",
      "1  vibrant, photography, scene        NaN  \n",
      "2               scene, realism        NaN  \n",
      "3            surrealism, dark,        NaN  \n",
      "4           scene, photography        NaN  \n",
      "        lastname firstname           cp_name                        tags  \\\n",
      "3472   Underwood    George  George Underwood                         NaN   \n",
      "3473     Vivanco     Kelly     Kelly Vivanco                         NaN   \n",
      "3474     Volegov  Vladimir  Vladimir Volegov  scene, portrait, landscape   \n",
      "3475       Wrona  Angelina    Angelina Wrona                         NaN   \n",
      "3476  Zouravliov     Vania  Vania Zouravliov                         NaN   \n",
      "\n",
      "     pseudonyms  \n",
      "3472        NaN  \n",
      "3473        NaN  \n",
      "3474        NaN  \n",
      "3475        NaN  \n",
      "3476        NaN  \n"
     ]
    }
   ],
   "source": [
    "print(artist_info.head())\n",
    "print(artist_info.tail())"
   ]
  },
  {
   "cell_type": "code",
   "execution_count": 3,
   "id": "extreme-offer",
   "metadata": {},
   "outputs": [
    {
     "name": "stdout",
     "output_type": "stream",
     "text": [
      "      lastname     firstname               cp_name  \\\n",
      "0        Aalto         Alvar           Alvar Aalto   \n",
      "1       Aarons          Slim           Slim Aarons   \n",
      "2        Abbey  Edwin Austin    Edwin Austin Abbey   \n",
      "3  Abercrombie      Gertrude  Gertrude Abercrombie   \n",
      "4    Abramović        Marina      Marina Abramović   \n",
      "\n",
      "                          tags pseudonyms  \n",
      "0  architecture, high contrast        NaN  \n",
      "1  vibrant, photography, scene        NaN  \n",
      "2               scene, realism        NaN  \n",
      "3            surrealism, dark,        NaN  \n",
      "4           scene, photography        NaN  \n",
      "an artist with multiple names ['Sabbas Apterus', 'Peter Polach']\n",
      "an artist with multiple names ['Ron Arad', 'Giorgione']\n",
      "an artist with multiple names ['Alexander Archipenko', 'Olexandr Archipenko']\n",
      "an artist with multiple names ['Artgerm', 'Stanley Lau']\n",
      "an artist with multiple names ['Ralph Bakshi', 'Giorgio Barbarelli da Castelfranco']\n",
      "an artist with multiple names ['Artur Bordalo', 'Bordalo II']\n",
      "an artist with multiple names ['Mikalojus Konstantinas Ciurlionis', 'Mikalojus Konstantinas Čiurlionis']\n",
      "an artist with multiple names ['Craola', 'Greg Simkins']\n",
      "an artist with multiple names ['Kelly Freas', 'Frank Kelly Freas']\n",
      "an artist with multiple names ['H. R. (Hans Ruedi) Giger', 'Giger']\n",
      "an artist with multiple names ['Jean Giraud', 'Moebius', 'Mœbius']\n",
      "an artist with multiple names ['Josan Gonzalez', 'Death Burger']\n",
      "an artist with multiple names ['Matthias Grünewald', 'Gothart', 'Neithardt']\n",
      "an artist with multiple names ['Friedensreich Regentag Dunkelbunt Hundertwasser', 'Hundertwasser']\n",
      "an artist with multiple names ['Hayao Miyazaki', 'Studio Ghibli']\n",
      "an artist with multiple names ['RHADS', 'Artem Chebokha']\n",
      "an artist with multiple names ['Jakub Różalski', 'Jakub Rozalski']\n",
      "an artist with multiple names ['Cedric Seaut', 'Keos Masons']\n",
      "an artist with multiple names ['Lois van Baarle', 'Loish']\n",
      "an artist with multiple names ['Mike Winkelmann', 'Beeple']\n",
      "an artist with multiple names ['Didier Barra', 'Monsù Desiderio']\n",
      "an artist with multiple names ['Artem Chebokha', 'RHADS']\n",
      "an artist with multiple names ['François De Nomé', 'Monsù Desiderio']\n",
      "an artist with multiple names ['Henri Rogers', 'Henry Rogers']\n",
      "an artist with multiple names ['Ryky', 'Zdenek Cehelsky']\n",
      "an artist with multiple names ['Arthur Skizhali-Weiss', 'Артур Скижали-Вейc']\n",
      "an artist with multiple names ['Toyen', 'Marie Čermínová']\n",
      "an artist with multiple names ['Ziraldo', 'Ziraldo Alves Pinto']\n",
      "an artist with multiple names ['Артур Скижали-Вейс', 'Arthur Skizhali-Weiss']\n"
     ]
    }
   ],
   "source": [
    "import numpy as np\n",
    "\n",
    "print(artist_info.head())\n",
    "\n",
    "artist_dict = {}\n",
    "# keys are the copy_paste names of the artists\n",
    "# values are lists of aliases of the artists\n",
    "\n",
    "for index, row in artist_info.iterrows():\n",
    "    artist_name = row.cp_name.strip(\" \")\n",
    "    artist_dict[artist_name] = [artist_name]\n",
    "    \n",
    "    if row.pseudonyms is not np.nan:\n",
    "        for pseudonym in row.pseudonyms.split(\",\"):\n",
    "            pseudonym = pseudonym.strip()\n",
    "            #print(f'{row.cp_name} {pseudonym}')\n",
    "            artist_dict[artist_name].append(pseudonym)\n",
    "        print(f'an artist with multiple names {artist_dict[artist_name]}')\n",
    "        "
   ]
  },
  {
   "cell_type": "code",
   "execution_count": 4,
   "id": "needed-nitrogen",
   "metadata": {},
   "outputs": [
    {
     "name": "stdout",
     "output_type": "stream",
     "text": [
      "number of artists: 3477\n"
     ]
    }
   ],
   "source": [
    "print(f'number of artists: {len(artist_dict.keys())}')"
   ]
  },
  {
   "cell_type": "code",
   "execution_count": 5,
   "id": "imposed-writing",
   "metadata": {},
   "outputs": [
    {
     "name": "stdout",
     "output_type": "stream",
     "text": [
      "Index(['image_name', 'prompt', 'part_id', 'seed', 'step', 'cfg', 'sampler',\n",
      "       'width', 'height', 'user_name', 'timestamp', 'image_nsfw',\n",
      "       'prompt_nsfw'],\n",
      "      dtype='object')\n"
     ]
    }
   ],
   "source": [
    "print(df_large.columns)"
   ]
  },
  {
   "cell_type": "code",
   "execution_count": 6,
   "id": "developed-committee",
   "metadata": {},
   "outputs": [
    {
     "name": "stdout",
     "output_type": "stream",
     "text": [
      "2022-08-06 21:59:00+00:00\n",
      "2022-08-20 13:33:00+00:00\n"
     ]
    }
   ],
   "source": [
    "print(df_large.timestamp.min())\n",
    "print(df_large.timestamp.max())"
   ]
  },
  {
   "cell_type": "code",
   "execution_count": 7,
   "id": "sudden-deployment",
   "metadata": {},
   "outputs": [
    {
     "name": "stdout",
     "output_type": "stream",
     "text": [
      "amount of unique users (10381,)\n"
     ]
    }
   ],
   "source": [
    "print(f'amount of unique users {df_large.user_name.unique().shape}')"
   ]
  },
  {
   "cell_type": "code",
   "execution_count": 8,
   "id": "powered-skill",
   "metadata": {},
   "outputs": [
    {
     "name": "stdout",
     "output_type": "stream",
     "text": [
      "(14000000, 13)\n",
      "89bebf4f200a853ac9a7b4dfec1edb160ade299fd60db12d0752bbfd882c6f45    224010\n",
      "deleted-account                                                      93543\n",
      "481f5d1579a33041518382518a5e108cfc1fea95f880d081023f533eb1afd82a     49577\n",
      "5477db661bbe6ff9fd509daf812fe50af4b6216f2b296c3cbf91c6b9e528fdce     38137\n",
      "ac2524ee4169c7f644f783de87f9bbfb96fa68b6e116dfb1f8b65274edaee97a     37524\n",
      "                                                                     ...  \n",
      "46b8b7b984d1d18b88cfcbaeac0728bb5aec9ef5c21e28831e8677d0621ed62e         1\n",
      "19aba8d820816e84f8866140660d476c013858c2b6407b98bc5db41218095ee4         1\n",
      "49788eeed56abc8f376073ce17f8097fdbdd3f70274ae2496c34f9543686a865         1\n",
      "d6473a7a475e429100b5178a0298ebdfdf8d8d27bfc6eceed9f5a8d148c4a4b4         1\n",
      "5e2d286338eb8cad8abb71c28c4d10cde5e4777a5ab8f9e39021c940b5de613f         1\n",
      "Name: user_name, Length: 10381, dtype: int64\n"
     ]
    }
   ],
   "source": [
    "print(df_large.shape)\n",
    "print(df_large.user_name.value_counts())"
   ]
  },
  {
   "cell_type": "code",
   "execution_count": 9,
   "id": "external-protocol",
   "metadata": {},
   "outputs": [
    {
     "name": "stdout",
     "output_type": "stream",
     "text": [
      "                                    image_name  \\\n",
      "531  5c91c55e-2997-4c8f-a352-d7a55c9101ad.webp   \n",
      "532  23756e3c-a208-4b22-9da0-389a20fc8fd1.webp   \n",
      "533  c74875dd-4fca-4d3c-b72b-cd1857386c1c.webp   \n",
      "534  dba6e669-c61f-4858-bdea-fa1c1632b772.webp   \n",
      "535  a78de037-1e01-449a-80d9-09fac1957160.webp   \n",
      "536  6027269e-c39a-4f7f-a06a-4a2f6b57d7e3.webp   \n",
      "537  a61eb078-41ce-4358-ba3e-2402c61a32b4.webp   \n",
      "538  827309b2-38cd-4fdd-a627-042e50fc5f8a.webp   \n",
      "539  03015b95-b837-43f7-a5e5-6cf1814016b6.webp   \n",
      "540  0924f662-e63f-4d6e-8757-ac2e061cf273.webp   \n",
      "\n",
      "                                                                                                                                                                                                                                        prompt  \\\n",
      "531  mount epic expedition bloodswarmer screenshot world of warcraft mounts worldboss bioluminecant light concept sketch art and by feng zhu alena aenami artworks in 4 k beeple, by thomas kinkade heartstone overwatch blizzard 3 d rtx hdr    \n",
      "532  mount epic expedition bloodswarmer screenshot world of warcraft mounts worldboss bioluminecant light concept sketch art and by feng zhu alena aenami artworks in 4 k beeple, by thomas kinkade heartstone overwatch blizzard 3 d rtx hdr    \n",
      "533  mount epic expedition bloodswarmer screenshot world of warcraft mounts worldboss bioluminecant light concept sketch art and by feng zhu alena aenami artworks in 4 k beeple, by thomas kinkade heartstone overwatch blizzard 3 d rtx hdr    \n",
      "534  mount epic expedition bloodswarmer screenshot world of warcraft mounts worldboss bioluminecant light concept sketch art and by feng zhu alena aenami artworks in 4 k beeple, by thomas kinkade heartstone overwatch blizzard 3 d rtx hdr    \n",
      "535       mount epic swift olive raptor screenshot world of warcraft mounts worldboss bioluminecant light concept sketch art and by feng zhu alena aenami artworks in 4 k beeple, by thomas kinkade heartstone overwatch blizzard 3 d rtx hdr    \n",
      "536       mount epic swift olive raptor screenshot world of warcraft mounts worldboss bioluminecant light concept sketch art and by feng zhu alena aenami artworks in 4 k beeple, by thomas kinkade heartstone overwatch blizzard 3 d rtx hdr    \n",
      "537       mount epic swift olive raptor screenshot world of warcraft mounts worldboss bioluminecant light concept sketch art and by feng zhu alena aenami artworks in 4 k beeple, by thomas kinkade heartstone overwatch blizzard 3 d rtx hdr    \n",
      "538       mount epic swift olive raptor screenshot world of warcraft mounts worldboss bioluminecant light concept sketch art and by feng zhu alena aenami artworks in 4 k beeple, by thomas kinkade heartstone overwatch blizzard 3 d rtx hdr    \n",
      "539       mount epic great purple elekk screenshot world of warcraft mounts worldboss bioluminecant light concept sketch art and by feng zhu alena aenami artworks in 4 k beeple, by thomas kinkade heartstone overwatch blizzard 3 d rtx hdr    \n",
      "540       mount epic great purple elekk screenshot world of warcraft mounts worldboss bioluminecant light concept sketch art and by feng zhu alena aenami artworks in 4 k beeple, by thomas kinkade heartstone overwatch blizzard 3 d rtx hdr    \n",
      "\n",
      "     part_id        seed  step   cfg  sampler  width  height  \\\n",
      "531        1  1306437380    50  12.0        8    768     512   \n",
      "532        1  1341991387    50  12.0        8    768     512   \n",
      "533        1  2726036640    50  12.0        8    768     512   \n",
      "534        1  1629868457    50  12.0        8    768     512   \n",
      "535        1  2797312217    50  12.0        8    768     512   \n",
      "536        1  1770056517    50  12.0        8    768     512   \n",
      "537        1  3673534016    50  12.0        8    768     512   \n",
      "538        1  1681093498    50  12.0        8    768     512   \n",
      "539        1  1124766567    50  12.0        8    768     512   \n",
      "540        1  2844730023    50  12.0        8    768     512   \n",
      "\n",
      "                                                            user_name  \\\n",
      "531  89bebf4f200a853ac9a7b4dfec1edb160ade299fd60db12d0752bbfd882c6f45   \n",
      "532  89bebf4f200a853ac9a7b4dfec1edb160ade299fd60db12d0752bbfd882c6f45   \n",
      "533  89bebf4f200a853ac9a7b4dfec1edb160ade299fd60db12d0752bbfd882c6f45   \n",
      "534  89bebf4f200a853ac9a7b4dfec1edb160ade299fd60db12d0752bbfd882c6f45   \n",
      "535  89bebf4f200a853ac9a7b4dfec1edb160ade299fd60db12d0752bbfd882c6f45   \n",
      "536  89bebf4f200a853ac9a7b4dfec1edb160ade299fd60db12d0752bbfd882c6f45   \n",
      "537  89bebf4f200a853ac9a7b4dfec1edb160ade299fd60db12d0752bbfd882c6f45   \n",
      "538  89bebf4f200a853ac9a7b4dfec1edb160ade299fd60db12d0752bbfd882c6f45   \n",
      "539  89bebf4f200a853ac9a7b4dfec1edb160ade299fd60db12d0752bbfd882c6f45   \n",
      "540  89bebf4f200a853ac9a7b4dfec1edb160ade299fd60db12d0752bbfd882c6f45   \n",
      "\n",
      "                    timestamp  image_nsfw  prompt_nsfw  \n",
      "531 2022-08-20 09:30:00+00:00    0.080630     0.001065  \n",
      "532 2022-08-20 09:30:00+00:00    0.080592     0.001065  \n",
      "533 2022-08-20 09:30:00+00:00    0.075654     0.001065  \n",
      "534 2022-08-20 09:30:00+00:00    0.050372     0.001065  \n",
      "535 2022-08-20 10:59:00+00:00    0.085626     0.002059  \n",
      "536 2022-08-20 10:59:00+00:00    0.091593     0.002059  \n",
      "537 2022-08-20 10:59:00+00:00    0.066272     0.002059  \n",
      "538 2022-08-20 10:59:00+00:00    0.082520     0.002059  \n",
      "539 2022-08-20 11:02:00+00:00    0.131847     0.001194  \n",
      "540 2022-08-20 11:02:00+00:00    0.133744     0.001194  \n"
     ]
    }
   ],
   "source": [
    "pd.set_option('display.max_colwidth', None)\n",
    "\n",
    "print(df_large[df_large.user_name == \"89bebf4f200a853ac9a7b4dfec1edb160ade299fd60db12d0752bbfd882c6f45\"].head(10))"
   ]
  },
  {
   "cell_type": "code",
   "execution_count": 10,
   "id": "funny-trainer",
   "metadata": {},
   "outputs": [
    {
     "data": {
      "text/plain": [
       "(14000000, 13)"
      ]
     },
     "execution_count": 10,
     "metadata": {},
     "output_type": "execute_result"
    }
   ],
   "source": [
    "df_large.shape"
   ]
  },
  {
   "cell_type": "code",
   "execution_count": 11,
   "id": "divided-album",
   "metadata": {},
   "outputs": [
    {
     "data": {
      "text/plain": [
       "1819808"
      ]
     },
     "execution_count": 11,
     "metadata": {},
     "output_type": "execute_result"
    }
   ],
   "source": [
    "len(df_large[\"prompt\"].unique())"
   ]
  },
  {
   "cell_type": "code",
   "execution_count": 12,
   "id": "asian-fisher",
   "metadata": {},
   "outputs": [],
   "source": [
    "# save to csv for human readability\n",
    "df.to_csv(\"../sources/metadata.csv\", escapechar = \"\\\\\")\n",
    "df_large.to_csv(\"../sources/metadata-large.csv\", escapechar = \"\\\\\")"
   ]
  },
  {
   "cell_type": "markdown",
   "id": "stuck-garden",
   "metadata": {},
   "source": [
    "# Exact matching\n",
    "\n",
    "Exact macthing by name and known pseudonyms."
   ]
  },
  {
   "cell_type": "markdown",
   "id": "tested-point",
   "metadata": {},
   "source": [
    "## Extract artists + styles from Prompts"
   ]
  },
  {
   "cell_type": "code",
   "execution_count": 13,
   "id": "global-member",
   "metadata": {},
   "outputs": [
    {
     "name": "stdout",
     "output_type": "stream",
     "text": [
      "number of styles: 192\n"
     ]
    }
   ],
   "source": [
    "style_names= my_utils.read_lines_as_list(\"../sources/styles.txt\")\n",
    "#style_names = [x.lower() for x in style_names]\n",
    "print(f'number of styles: {len(style_names)}')\n",
    "# print(f'style names: {style_names}')"
   ]
  },
  {
   "cell_type": "code",
   "execution_count": 14,
   "id": "inner-tractor",
   "metadata": {},
   "outputs": [
    {
     "name": "stdout",
     "output_type": "stream",
     "text": [
      "artists extracted\n",
      "                                                                                                                                                                                                                                                                                                                                                       prompt  \\\n",
      "0                                                                                      beautiful porcelain ivory fair face woman biomechanical cyborg, close - up, sharp focus, studio light, iris van herpen haute couture headdress made of rhizomorphs, daisies, brackets, colorful corals, fractal mushrooms, puffballs, octane render, ultra sharp, 8 k    \n",
      "1                   complex 3 d render hyper detailed ultra sharp futuristic beautiful biomechanical humanoid woman with porcelain ivory face, medium shot portrait, close - up, filigree lace, iris van herpen cyberpunk daisies corals haute couture headdress with rhizomorph finials spires, brackets, fractal embroidered puffballs, octane render, 8 k    \n",
      "15  complex 3 d render hyper detailed ultra sharp scifi futuristic beautiful biomechanical humanoid woman with porcelain ivory face, medium shot rim light portrait, close - up, iris van herpen cyberpunk daisies corals haute couture headdress with rhizomorph finials spires, brackets, fractal embroidered puffballs, filigree lace, octane render, 8 k    \n",
      "16         complex 3 d render hyper detailed ultra sharp beautiful futuristic stunning biomechanical humanoid woman with porcelain ivory face, medium shot portrait, close - up, filigree lace, iris van herpen cyberpunk daisies corals haute couture headdress with rhizomorph finials spires, brackets, fractal embroidered puffballs, octane render, 8 k    \n",
      "33         complex 3 d render hyper detailed ultra sharp beautiful futuristic stunning biomechanical humanoid woman with porcelain ivory face, medium shot portrait, close - up, filigree lace, iris van herpen daisies colras cyberpunk haute couture headdress with rhizomorph finials spires, brackets, fractal embroidered puffballs, octane render, 8 k    \n",
      "\n",
      "                                   image_name  \\\n",
      "0   3ccdc650-871a-4ad9-9bf2-dc475b83ed32.webp   \n",
      "1   1f1fcb70-63a4-40b1-ada9-2c15fb2ca10a.webp   \n",
      "15  a3154865-5d4c-4ba7-bcb2-7c1b4ed205e5.webp   \n",
      "16  d6e3e37e-d426-41cf-b765-9c9872c1cdc5.webp   \n",
      "33  8763be47-d192-4542-a04a-f8e085273290.webp   \n",
      "\n",
      "                                                           user_name  \\\n",
      "0   01f4e782b48faedf416083b2fbabaca2a45621b15ead2333f03f0979b10e7266   \n",
      "1   01f4e782b48faedf416083b2fbabaca2a45621b15ead2333f03f0979b10e7266   \n",
      "15  01f4e782b48faedf416083b2fbabaca2a45621b15ead2333f03f0979b10e7266   \n",
      "16  01f4e782b48faedf416083b2fbabaca2a45621b15ead2333f03f0979b10e7266   \n",
      "33  01f4e782b48faedf416083b2fbabaca2a45621b15ead2333f03f0979b10e7266   \n",
      "\n",
      "              artists  num_artists  \n",
      "0   [Iris van Herpen]            1  \n",
      "1   [Iris van Herpen]            1  \n",
      "15  [Iris van Herpen]            1  \n",
      "16  [Iris van Herpen]            1  \n",
      "33  [Iris van Herpen]            1  \n",
      "                                                                                                                                                                                                                                                                                                                                                       prompt  \\\n",
      "0                                                                                      beautiful porcelain ivory fair face woman biomechanical cyborg, close - up, sharp focus, studio light, iris van herpen haute couture headdress made of rhizomorphs, daisies, brackets, colorful corals, fractal mushrooms, puffballs, octane render, ultra sharp, 8 k    \n",
      "1                   complex 3 d render hyper detailed ultra sharp futuristic beautiful biomechanical humanoid woman with porcelain ivory face, medium shot portrait, close - up, filigree lace, iris van herpen cyberpunk daisies corals haute couture headdress with rhizomorph finials spires, brackets, fractal embroidered puffballs, octane render, 8 k    \n",
      "15  complex 3 d render hyper detailed ultra sharp scifi futuristic beautiful biomechanical humanoid woman with porcelain ivory face, medium shot rim light portrait, close - up, iris van herpen cyberpunk daisies corals haute couture headdress with rhizomorph finials spires, brackets, fractal embroidered puffballs, filigree lace, octane render, 8 k    \n",
      "16         complex 3 d render hyper detailed ultra sharp beautiful futuristic stunning biomechanical humanoid woman with porcelain ivory face, medium shot portrait, close - up, filigree lace, iris van herpen cyberpunk daisies corals haute couture headdress with rhizomorph finials spires, brackets, fractal embroidered puffballs, octane render, 8 k    \n",
      "33         complex 3 d render hyper detailed ultra sharp beautiful futuristic stunning biomechanical humanoid woman with porcelain ivory face, medium shot portrait, close - up, filigree lace, iris van herpen daisies colras cyberpunk haute couture headdress with rhizomorph finials spires, brackets, fractal embroidered puffballs, octane render, 8 k    \n",
      "\n",
      "                                   image_name  \\\n",
      "0   3ccdc650-871a-4ad9-9bf2-dc475b83ed32.webp   \n",
      "1   1f1fcb70-63a4-40b1-ada9-2c15fb2ca10a.webp   \n",
      "15  a3154865-5d4c-4ba7-bcb2-7c1b4ed205e5.webp   \n",
      "16  d6e3e37e-d426-41cf-b765-9c9872c1cdc5.webp   \n",
      "33  8763be47-d192-4542-a04a-f8e085273290.webp   \n",
      "\n",
      "                                                           user_name  \\\n",
      "0   01f4e782b48faedf416083b2fbabaca2a45621b15ead2333f03f0979b10e7266   \n",
      "1   01f4e782b48faedf416083b2fbabaca2a45621b15ead2333f03f0979b10e7266   \n",
      "15  01f4e782b48faedf416083b2fbabaca2a45621b15ead2333f03f0979b10e7266   \n",
      "16  01f4e782b48faedf416083b2fbabaca2a45621b15ead2333f03f0979b10e7266   \n",
      "33  01f4e782b48faedf416083b2fbabaca2a45621b15ead2333f03f0979b10e7266   \n",
      "\n",
      "              artists  num_artists styles  num_styles  \n",
      "0   [Iris van Herpen]            1     []           0  \n",
      "1   [Iris van Herpen]            1     []           0  \n",
      "15  [Iris van Herpen]            1     []           0  \n",
      "16  [Iris van Herpen]            1     []           0  \n",
      "33  [Iris van Herpen]            1     []           0  \n",
      "Artists extracted\n"
     ]
    }
   ],
   "source": [
    "# Unique prompts\n",
    "cols = [\"prompt\", \"image_name\",\"user_name\"]\n",
    "\n",
    "extract_artists_styles = df_large[cols].copy()\n",
    "extract_artists_styles = extract_artists_styles.drop_duplicates(subset=\"prompt\")\n",
    "\n",
    "extract_artists_styles['artists'] = extract_artists_styles['prompt'].map(\n",
    "        lambda p: my_utils.extract_artists_exact(p, artist_dict))\n",
    "extract_artists_styles[\"num_artists\"] = extract_artists_styles['artists'].map(\n",
    "        lambda p: len(p))\n",
    "\n",
    "print(\"artists extracted\")\n",
    "print(extract_artists_styles.head())\n",
    "\n",
    "extract_artists_styles['styles'] = extract_artists_styles['prompt'].map(\n",
    "        lambda p: my_utils.extract_styles_exact(p, style_names))\n",
    "extract_artists_styles[\"num_styles\"] = extract_artists_styles['styles'].map(\n",
    "        lambda p: len(p))\n",
    "\n",
    "\n",
    "print(extract_artists_styles.head())\n",
    "extract_artists_styles.to_parquet(\"../results/artists_exact_match_large.parquet\")\n",
    "extract_artists_styles.to_csv(\"../results/artists_exact_match_large.csv\", escapechar=\"\\\\\")\n",
    "print(f'Artists extracted')"
   ]
  },
  {
   "cell_type": "code",
   "execution_count": 15,
   "id": "insured-summer",
   "metadata": {},
   "outputs": [
    {
     "name": "stdout",
     "output_type": "stream",
     "text": [
      "There are some prompts with a lot of entioned styles:\n",
      "count    1.819808e+06\n",
      "mean     1.777374e-01\n",
      "std      5.069467e-01\n",
      "min      0.000000e+00\n",
      "25%      0.000000e+00\n",
      "50%      0.000000e+00\n",
      "75%      0.000000e+00\n",
      "max      3.000000e+01\n",
      "Name: num_styles, dtype: float64\n",
      "                                                                                                                                                                                                                                                                                                                                                                                                                                                                                                                                                                                                                                                                                                                                                                                                                                                                                                                                                                                                                                                                                                                                                                                                                                                                                                                                                                                                                                                                           prompt  \\\n",
      "10984624                                                                                                                                                                    , airbrush, minimalistic realist, polyurethane foam, clay, resin, spray paint, pearls, glitter, chromatic pigment, pigment, photography, studio lighting, iridescent plastic sheet studio ghibli abstract expressionism art deco art nouveau avant - garde baroque bauhaus classicism color field painting conceptual art constructivism cubism dada / dadaism digital art expressionism fauvism futurism harlem renaissance post - impressionism installation art land art minimalism neo - impressionism neoclassicism neon art op art performance art pop art post - impressionism precisionism rococo street art surrealism suprematism symbolism zero group boosters volumetric, cinematic color graded, atmosphere, photorealism, global illumination, arnold rendering, 8 k resolution, high details, flickr, dslr, z brush central, cgsociety, artstation 4 k, photography, contrast, hdri, beautiful lighting, volumetric lighting advertisements, hd, 4 k, dynamic camera angle, 3 point perspective, fish eye, concept art, illustration, tilt shift background, wide depth of field, 8 k detailed, intricate, detailed, intricate, elegant, digital painting, concept art, sharp focus, illustration, octane render, cinematic, hyper realism, octane render, 8 k, depth of field, bokeh    \n",
      "10990673  peter ferguson, leonora carrington, yukio kitt, yago hortal, lindsay kennedy, william bradford, william turner, by francois - auguste biard, lowell birge harrison, ivan aivazovsky, geovanni strazza, bernini, gerhard richter, zdzislaw beksinski, alphonse mucha, wallace and gromit, yoji shinkawa, kastuhiro otomo fang lijun, ramona zordini, james turrell, olafur eliasson, by cliff childs, tooth wu, greg rutkowski, yue minjun francois morellet, dan flavin, untitled ( in honor of harold joachim ) 3, 1 9 7 7, james turrell, doug wheeler, light and space, david schnell art movements 8 0's, airbrush, minimalistic realist, polyurethane foam, clay, resin, spray paint, pearls, glitter, chromatic pigment, pigment, photography, studio lighting, iridescent plastic sheet studio ghibli abstract expressionism art deco art nouveau avant - garde baroque bauhaus classicism color field painting conceptual art constructivism cubism dada / dadaism digital art expressionism fauvism futurism harlem renaissance post - impressionism installation art land art minimalism neo - impressionism neoclassicism neon art op art performance art pop art post - impressionism precisionism romanticism, post - impressionism, flowing cloths and feathers, dark smoke, tarot card, artstation, beautifully lit, hyperdetailed, beautiful lighting, trending on artstation, cloths, exalted, light leak, dark smoke, beautiful lighting concept art    \n",
      "13351968                                                                                                                                                                                                                                                                                                                                                                                                                                                                                                                                                                                                                                                                                                                                                                                                                                                                                                                                                                                                                                                                                                                                            pink main battle tank in the style of dutch golden age, ukiyo - e, neoclassicism, romanticism, modern art, realism, japonism, neoimpressionism, symbolism, expressionism, fauvism, cubism, dada, surrealism, abstract expressionism, pop art, contemporary art, postmodern art, stuckism, ancient art, renaissance, baroque,    \n",
      "13352996                                                                                                                                                                                                                                                                                                                                                                                                                                                                                                                                                                                                                                                                                                                                                                                                                                                                                                                                                                                                                                                                                                                                                                       main battle tank in the style of romanticism, modern art, realism, neoimpressionism, symbolism, expressionism, fauvism, dada, surrealism, abstract expressionism, pop art, contemporary art, postmodern art, stuckism, ancient art, renaissance, baroque, dutch golden age, neoclassicism, cubism    \n",
      "13352992                                                                                                                                                                                                                                                                                                                                                                                                                                                                                                                                                                                                                                                                                                                                                                                                                                                                                                                                                                                                                                                                                                                                                                  pink main battle tank in the style of romanticism, modern art, realism, neoimpressionism, symbolism, expressionism, fauvism, cubism, dada, surrealism, abstract expressionism, pop art, contemporary art, postmodern art, stuckism, ancient art, renaissance, baroque, dutch golden age, neoclassicism    \n",
      "\n",
      "                                         image_name  \\\n",
      "10984624  56eea0a8-f458-4ca7-9cb0-4abd34d70a25.webp   \n",
      "10990673  1f238526-5459-4be5-93b3-6384598745a6.webp   \n",
      "13351968  d27e10fe-943e-4515-8c91-9376d43ae264.webp   \n",
      "13352996  8eb0746b-f93e-4377-9e6a-43597c0eb3f6.webp   \n",
      "13352992  6780c099-dfbf-49b3-89b6-746b695ba521.webp   \n",
      "\n",
      "                                                                 user_name  \\\n",
      "10984624  b83b5e440ca9bad730c5a65ae5abc05c5f422e8a035f4c3620d6603b64472fe2   \n",
      "10990673  b83b5e440ca9bad730c5a65ae5abc05c5f422e8a035f4c3620d6603b64472fe2   \n",
      "13351968  ff948308aeb99029f037fea54cfd56358314f58f5d3d1b86985ba433113a1693   \n",
      "13352996  ff948308aeb99029f037fea54cfd56358314f58f5d3d1b86985ba433113a1693   \n",
      "13352992  ff948308aeb99029f037fea54cfd56358314f58f5d3d1b86985ba433113a1693   \n",
      "\n",
      "                                                                                                                                                                                                                                  artists  \\\n",
      "10984624                                                                                                                                                                                                                 [Hayao Miyazaki]   \n",
      "10990673  [Ivan Aivazovsky, Leonora Carrington, Olafur Eliasson, Dan Flavin, Fang Lijun, Hayao Miyazaki, Alphonse Mucha, Gerhard Richter, Greg Rutkowski, Yoji Shinkawa, William Turner, James Turrell, Tooth Wu, Trending on artstation]   \n",
      "13351968                                                                                                                                                                                                                               []   \n",
      "13352996                                                                                                                                                                                                                               []   \n",
      "13352992                                                                                                                                                                                                                               []   \n",
      "\n",
      "          num_artists  \\\n",
      "10984624            1   \n",
      "10990673           14   \n",
      "13351968            0   \n",
      "13352996            0   \n",
      "13352992            0   \n",
      "\n",
      "                                                                                                                                                                                                                                                                                                                                                                                  styles  \\\n",
      "10984624  [Abstract expressionism, Art Deco, Art Nouveau, Baroque, Bauhaus, Color Field, Conceptual art, Constructivism, Cubism, Dada, Digital art, Expressionism, Fauvism, Futurism, Harlem Renaissance, Impressionism, Land art, Minimalism, Neoclassicism, Op Art, Photorealism, Pop art, Precisionism, Realism, Renaissance, Rococo, Street art, Suprematism, Surrealism, Symbolism]   \n",
      "10990673                                                   [Abstract expressionism, Art Deco, Art Nouveau, Baroque, Bauhaus, Color Field, Conceptual art, Constructivism, Cubism, Dada, Digital art, Expressionism, Fauvism, Futurism, Harlem Renaissance, Impressionism, Land art, Light and Space, Minimalism, Neoclassicism, Op Art, Pop art, Precisionism, Renaissance, Romanticism]   \n",
      "13351968                                                                                                                                                                       [Abstract expressionism, Baroque, Cubism, Dada, Expressionism, Fauvism, Impressionism, Neoclassicism, Op Art, Pop art, Realism, Renaissance, Romanticism, Stuckism, Surrealism, Symbolism, Temporary art]   \n",
      "13352996                                                                                                                                                                       [Abstract expressionism, Baroque, Cubism, Dada, Expressionism, Fauvism, Impressionism, Neoclassicism, Op Art, Pop art, Realism, Renaissance, Romanticism, Stuckism, Surrealism, Symbolism, Temporary art]   \n",
      "13352992                                                                                                                                                                       [Abstract expressionism, Baroque, Cubism, Dada, Expressionism, Fauvism, Impressionism, Neoclassicism, Op Art, Pop art, Realism, Renaissance, Romanticism, Stuckism, Surrealism, Symbolism, Temporary art]   \n",
      "\n",
      "          num_styles  \n",
      "10984624          30  \n",
      "10990673          25  \n",
      "13351968          17  \n",
      "13352996          17  \n",
      "13352992          17  \n"
     ]
    }
   ],
   "source": [
    "extract_artists_styles.sort_values([\"num_styles\"], ascending=False, inplace=True)\n",
    "print(f'There are some prompts with a lot of entioned styles:\\n{extract_artists_styles.num_styles.describe()}')\n",
    "print(extract_artists_styles.head())"
   ]
  },
  {
   "cell_type": "markdown",
   "id": "finnish-trigger",
   "metadata": {},
   "source": [
    "## Count Artist Mentions"
   ]
  },
  {
   "cell_type": "code",
   "execution_count": 16,
   "id": "white-tooth",
   "metadata": {},
   "outputs": [
    {
     "name": "stdout",
     "output_type": "stream",
     "text": [
      "exact_matches.dtypes prompt         object\n",
      "image_name     object\n",
      "user_name      object\n",
      "artists        object\n",
      "num_artists     int64\n",
      "styles         object\n",
      "num_styles      int64\n",
      "dtype: object\n",
      "analysing 1 artists took 0.014711566766103109 minutes\n",
      "time remaining estimate 51.13740607897441 minutes\n",
      "analysing 1001 artists took 13.541353011131287 minutes\n",
      "time remaining estimate 33.49489516040067 minutes\n",
      "analysing 2001 artists took 27.133759474754335 minutes\n",
      "time remaining estimate 20.0147071387993 minutes\n",
      "analysing 3001 artists took 40.67968702316284 minutes\n",
      "time remaining estimate 6.452359554490341 minutes\n",
      "finished\n"
     ]
    }
   ],
   "source": [
    "import pandas as pd\n",
    "import my_utils\n",
    "import time\n",
    "\n",
    "exact_matches = pd.read_parquet('../results/artists_exact_match_large.parquet', engine='pyarrow')\n",
    "print(f'exact_matches.dtypes {exact_matches.dtypes}')\n",
    "\n",
    "artist_names = artist_dict.keys()\n",
    "\n",
    "cols = [\"artist\", \"mentions\", \"style_mentions\"]\n",
    "\n",
    "artist_mentions =  pd.DataFrame(columns=cols)\n",
    "\n",
    "starttime = time.time()\n",
    "\n",
    "for index, name in enumerate(artist_names):\n",
    "    #print(f'{index} {name}',flush=True)\n",
    "    \n",
    "    new_row = dict()\n",
    "    new_row['artist'] = name\n",
    "    mdf = my_utils.exact_match_dataframe(exact_matches, name)\n",
    "    #print(mdf)\n",
    "    new_row['mentions'] = mdf.shape[0]\n",
    "    new_row['style_mentions'] = mdf.num_styles.sum() # style_mentions sum of all mentioned styles in prompts that contain the artist\n",
    "    \n",
    "    new_row = pd.Series(new_row)\n",
    "    \n",
    "    artist_mentions = pd.concat([artist_mentions, new_row.to_frame().T], ignore_index=True)\n",
    "    \n",
    "    duration = time.time() - starttime\n",
    "    \n",
    "    if index % 1000 == 0:\n",
    "        c = index + 1\n",
    "        print(f'analysing {c} artists took {duration / 60} minutes',flush=True)\n",
    "        print(f'time remaining estimate {(duration/c)*(len(artist_names)-c)/60} minutes',flush=True)\n",
    "\n",
    "artist_mentions.sort_values(\"mentions\", axis=0, ascending=False, inplace=True)\n",
    "    \n",
    "artist_mentions.to_csv(\"../results/artist_mentions.csv\", escapechar = \"\\\\\")\n",
    "artist_mentions.to_parquet(\"../results/artist_mentions.parquet\")\n",
    "print(\"finished\")"
   ]
  },
  {
   "cell_type": "markdown",
   "id": "educational-authentication",
   "metadata": {},
   "source": [
    "# Count Style Mentions"
   ]
  },
  {
   "cell_type": "code",
   "execution_count": 7,
   "id": "distributed-headquarters",
   "metadata": {},
   "outputs": [
    {
     "name": "stdout",
     "output_type": "stream",
     "text": [
      "                                                prompt  \\\n",
      "134  2 d character design, female rapper, vector ar...   \n",
      "136  rimworld concept art isometric perspective, ep...   \n",
      "158  comic about a time machine. highly detailed, d...   \n",
      "162  a time machine creating a utopia. highly detai...   \n",
      "170  pepe the frog painted as old egypt god sitting...   \n",
      "\n",
      "                                    image_name  \\\n",
      "134  9624180c-a50d-4cdb-9a97-60e78a5bb40b.webp   \n",
      "136  d171ce15-7480-45c0-9785-f621869423dc.webp   \n",
      "158  bcc9021f-af36-41d3-97df-96f0abf98447.webp   \n",
      "162  437bfd1a-7c44-4b90-8bc1-89430788e736.webp   \n",
      "170  f612024f-b28b-4e69-9942-6d1a7f7d71ef.webp   \n",
      "\n",
      "                                             user_name  \\\n",
      "134  17ba6ea213f694779344e865b6c7625f4a91236c4e88d7...   \n",
      "136  1c3a789b3f82c8bb2455b2dc9289adccd7db01624ece6a...   \n",
      "158  2b55f57dbbd3ca2bb8be6a57f5d301c5111943b689f7ab...   \n",
      "162  2b55f57dbbd3ca2bb8be6a57f5d301c5111943b689f7ab...   \n",
      "170  3131c94c977a361e4c5645b082efb9b122728d05d97a85...   \n",
      "\n",
      "                                               artists  num_artists  \\\n",
      "134                                                 []            0   \n",
      "136  [Kilian Eng, Dan Mumford, Victo Ngai, Greg Rut...            5   \n",
      "158                     [Peter Mohrbacher, Sam Spratt]            2   \n",
      "162    [Peter Mohrbacher, Takato Yamamoto, Sam Spratt]            3   \n",
      "170                [Junji Ito, Peter Mohrbacher, Rone]            3   \n",
      "\n",
      "            styles  num_styles  \n",
      "134  [Digital art]           1  \n",
      "136  [Digital art]           1  \n",
      "158      [Realism]           1  \n",
      "162      [Realism]           1  \n",
      "170  [Digital art]           1  \n",
      "          style mentions\n",
      "0   Digital art    91552\n",
      "1       Realism    64820\n",
      "2  Hyperrealism    17662\n",
      "3   Art Nouveau    13541\n",
      "4       Baroque    12362\n",
      "185 of 192 styles have been found\n",
      "finished\n"
     ]
    }
   ],
   "source": [
    "import pandas as pd\n",
    "import my_utils\n",
    "import time\n",
    "\n",
    "\n",
    "style_names= my_utils.read_lines_as_list(\"../sources/styles.txt\")\n",
    "#style_names = [x.lower() for x in style_names]\n",
    "\n",
    "exact_matches = pd.read_parquet('../results/artists_exact_match_large.parquet', engine='pyarrow')\n",
    "print(exact_matches[exact_matches.num_styles > 0].head())\n",
    "\n",
    "\n",
    "cols = [\"style\", \"mentions\"]\n",
    "\n",
    "style_mentions =  pd.DataFrame(columns=cols)\n",
    "\n",
    "starttime = time.time()\n",
    "\n",
    "for index, name in enumerate(style_names):\n",
    "    #print(f'{index} {name}',flush=True)\n",
    "    \n",
    "    new_row = dict()\n",
    "    new_row['style'] = name\n",
    "    mdf = my_utils.exact_match_dataframe_style(exact_matches, name)\n",
    "    #print(mdf)\n",
    "    new_row['mentions'] = mdf.shape[0]\n",
    "    #print(new_row['mentions'])\n",
    "    \n",
    "    new_row = pd.Series(new_row)\n",
    "    #print(new_row)\n",
    "    \n",
    "    style_mentions = pd.concat([style_mentions, new_row.to_frame().T], ignore_index=True)\n",
    "    \n",
    "    duration = time.time() - starttime\n",
    "    #print(f'analysing {c} style took {duration / 60} minutes',flush=True)\n",
    "    #print(f'time remaining estimate {(duration/c)*(len(excel_artist_names)-c)/60} minutes',flush=True)\n",
    "\n",
    "style_mentions.sort_values(\"mentions\", axis=0, ascending=False, inplace=True)\n",
    "style_mentions.reset_index(inplace=True)\n",
    "style_mentions.drop(\"index\", axis=1, inplace=True)\n",
    "\n",
    "assert style_mentions[style_mentions[\"mentions\"]>0].shape[0]>0, f'No style mentions have been found, check the data.'\n",
    "\n",
    "print(style_mentions.head())\n",
    "\n",
    "style_mentions.to_csv(\"../results/style_mentions.csv\", escapechar = \"\\\\\")\n",
    "style_mentions.to_parquet(\"../results/style_mentions.parquet\")\n",
    "\n",
    "print(f'{style_mentions[style_mentions.mentions > 0].shape[0]} of {len(style_names)} styles have been found')\n",
    "\n",
    "print(\"finished\")"
   ]
  },
  {
   "cell_type": "code",
   "execution_count": 6,
   "id": "ranging-dietary",
   "metadata": {},
   "outputs": [
    {
     "name": "stdout",
     "output_type": "stream",
     "text": [
      "Index(['index', 'style', 'mentions'], dtype='object')\n",
      "          style mentions\n",
      "0   Digital art    91552\n",
      "1       Realism    64820\n",
      "2  Hyperrealism    17662\n",
      "3   Art Nouveau    13541\n",
      "4       Baroque    12362\n"
     ]
    }
   ],
   "source": [
    "\n",
    "print(style_mentions.columns)\n",
    "\n",
    "\n",
    "assert style_mentions[style_mentions[\"mentions\"]>0].shape[0]>0, f'No style mentions have been found, check the data.'\n",
    "\n",
    "print(style_mentions.head())"
   ]
  },
  {
   "cell_type": "code",
   "execution_count": null,
   "id": "therapeutic-there",
   "metadata": {},
   "outputs": [],
   "source": []
  }
 ],
 "metadata": {
  "kernelspec": {
   "display_name": "my env conda",
   "language": "python",
   "name": "conda"
  },
  "language_info": {
   "codemirror_mode": {
    "name": "ipython",
    "version": 3
   },
   "file_extension": ".py",
   "mimetype": "text/x-python",
   "name": "python",
   "nbconvert_exporter": "python",
   "pygments_lexer": "ipython3",
   "version": "3.10.9"
  }
 },
 "nbformat": 4,
 "nbformat_minor": 5
}

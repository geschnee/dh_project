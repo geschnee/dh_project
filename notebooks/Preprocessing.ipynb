{
 "cells": [
  {
   "cell_type": "code",
   "execution_count": 3,
   "id": "challenging-experiment",
   "metadata": {},
   "outputs": [],
   "source": [
    "import pandas as pd\n",
    "#df = pd.read_parquet('sources/metadata.parquet', engine='pyarrow')\n",
    "df_large = pd.read_parquet('../sources/metadata-large.parquet', engine='pyarrow')\n",
    "\n",
    "\n",
    "# read excel_artist_names\n",
    "import my_utils\n",
    "excel_artist_names = my_utils.read_lines_as_list(\"../sources/excel_artists_copy_paste_name.txt\")\n",
    "hundred_artist_names =  excel_artist_names[0:100]\n",
    "assert len(hundred_artist_names) == 100\n",
    "ten_artist_names = excel_artist_names[0:10]\n",
    "assert len(ten_artist_names) == 10\n"
   ]
  },
  {
   "cell_type": "code",
   "execution_count": 2,
   "id": "statutory-startup",
   "metadata": {},
   "outputs": [
    {
     "name": "stdout",
     "output_type": "stream",
     "text": [
      "Index(['image_name', 'prompt', 'part_id', 'seed', 'step', 'cfg', 'sampler',\n",
      "       'width', 'height', 'user_name', 'timestamp', 'image_nsfw',\n",
      "       'prompt_nsfw'],\n",
      "      dtype='object')\n"
     ]
    }
   ],
   "source": [
    "print(df_large.columns)"
   ]
  },
  {
   "cell_type": "code",
   "execution_count": 7,
   "id": "infectious-courage",
   "metadata": {},
   "outputs": [
    {
     "name": "stdout",
     "output_type": "stream",
     "text": [
      "2022-08-06 21:59:00+00:00\n",
      "2022-08-20 13:33:00+00:00\n"
     ]
    }
   ],
   "source": [
    "print(df_large.timestamp.min())\n",
    "print(df_large.timestamp.max())"
   ]
  },
  {
   "cell_type": "code",
   "execution_count": 6,
   "id": "future-output",
   "metadata": {},
   "outputs": [
    {
     "name": "stdout",
     "output_type": "stream",
     "text": [
      "(10381,)\n"
     ]
    }
   ],
   "source": [
    "print(df_large.user_name.unique().shape)"
   ]
  },
  {
   "cell_type": "code",
   "execution_count": 42,
   "id": "separated-lease",
   "metadata": {},
   "outputs": [
    {
     "name": "stdout",
     "output_type": "stream",
     "text": [
      "150           2916\n",
      "2726823234    2576\n",
      "3243157889    2550\n",
      "3508342747    2532\n",
      "2615227870    2281\n",
      "              ... \n",
      "810531770        1\n",
      "3274865629       1\n",
      "2856670026       1\n",
      "1319824961       1\n",
      "857964944        1\n",
      "Name: seed, Length: 12547098, dtype: int64\n",
      "(12547098,)\n",
      "count    1.400000e+07\n",
      "mean     2.143160e+09\n",
      "std      1.242911e+09\n",
      "min      1.000000e+00\n",
      "25%      1.066910e+09\n",
      "50%      2.144104e+09\n",
      "75%      3.219618e+09\n",
      "max      4.294967e+09\n",
      "Name: seed, dtype: float64\n",
      "timestamp\n",
      "32516      2022-08-17 06:22:00+00:00\n",
      "79176      2022-08-14 18:20:00+00:00\n",
      "312718     2022-08-17 16:55:00+00:00\n",
      "470988     2022-08-13 15:10:00+00:00\n",
      "591899     2022-08-11 16:01:00+00:00\n",
      "963336     2022-08-10 19:43:00+00:00\n",
      "1157894    2022-08-12 03:26:00+00:00\n",
      "1503845    2022-08-15 16:48:00+00:00\n",
      "1917556    2022-08-17 06:33:00+00:00\n",
      "2358568    2022-08-15 08:23:00+00:00\n",
      "2859875    2022-08-13 19:52:00+00:00\n",
      "3383919    2022-08-11 21:46:00+00:00\n",
      "3779495    2022-08-14 09:25:00+00:00\n",
      "3985648    2022-08-15 15:52:00+00:00\n",
      "4093046    2022-08-11 19:30:00+00:00\n",
      "4505314    2022-08-11 10:26:00+00:00\n",
      "4683895    2022-08-12 01:45:00+00:00\n",
      "5062859    2022-08-10 15:11:00+00:00\n",
      "5823795    2022-08-10 01:24:00+00:00\n",
      "6056855    2022-08-11 16:37:00+00:00\n",
      "6388388    2022-08-09 15:47:00+00:00\n",
      "6720983    2022-08-15 20:12:00+00:00\n",
      "6802358    2022-08-12 09:46:00+00:00\n",
      "6837199    2022-08-11 09:10:00+00:00\n",
      "7254037    2022-08-14 15:20:00+00:00\n",
      "7392655    2022-08-09 15:50:00+00:00\n",
      "7586502    2022-08-12 09:54:00+00:00\n",
      "7838735    2022-08-13 11:48:00+00:00\n",
      "8090124    2022-08-13 17:25:00+00:00\n",
      "8320697    2022-08-15 20:18:00+00:00\n",
      "8504712    2022-08-10 17:26:00+00:00\n",
      "8643184    2022-08-15 21:14:00+00:00\n",
      "8722001    2022-08-12 14:01:00+00:00\n",
      "8983803    2022-08-11 19:39:00+00:00\n",
      "9164124    2022-08-13 22:42:00+00:00\n",
      "9387707    2022-08-15 14:53:00+00:00\n",
      "9474483    2022-08-12 01:19:00+00:00\n",
      "9794560    2022-08-10 21:36:00+00:00\n",
      "9996079    2022-08-12 17:25:00+00:00\n",
      "10328009   2022-08-12 11:08:00+00:00\n",
      "10619475   2022-08-13 00:37:00+00:00\n",
      "10818983   2022-08-15 20:16:00+00:00\n",
      "11174325   2022-08-15 11:10:00+00:00\n",
      "11256003   2022-08-12 04:33:00+00:00\n",
      "11634672   2022-08-09 22:22:00+00:00\n",
      "12067494   2022-08-15 14:10:00+00:00\n",
      "12383321   2022-08-15 12:29:00+00:00\n",
      "13034943   2022-08-15 19:31:00+00:00\n",
      "13067271   2022-08-14 21:10:00+00:00\n",
      "13260346   2022-08-10 02:26:00+00:00\n",
      "13675992   2022-08-12 12:44:00+00:00\n",
      "13876262   2022-08-09 22:03:00+00:00\n",
      "Name: timestamp, dtype: datetime64[ns, UTC]\n",
      "(365,)\n",
      "(301,)\n",
      "(299,)\n"
     ]
    }
   ],
   "source": [
    "print(df_large.seed.value_counts())\n",
    "\n",
    "print(df_large.seed.unique().shape)\n",
    "print(df_large.seed.describe())\n",
    "\n",
    "\n",
    "print(\"timestamp\")\n",
    "timestamp_50 = df_large[df_large.seed == 2726823234].timestamp\n",
    "print(timestamp_50.iloc[::50])\n",
    "\n",
    "\n",
    "\n",
    "\n",
    "print(df_large[df_large.seed == 150].user_name.unique().shape)\n",
    "print(df_large[df_large.seed == 2726823234].user_name.unique().shape)\n",
    "print(df_large[df_large.seed == 3243157889].user_name.unique().shape)\n",
    "\n",
    "\n"
   ]
  },
  {
   "cell_type": "code",
   "execution_count": 10,
   "id": "labeled-carolina",
   "metadata": {},
   "outputs": [
    {
     "name": "stdout",
     "output_type": "stream",
     "text": [
      "False\n"
     ]
    }
   ],
   "source": [
    "print(df_large['seed'].isnull().values.any()) # keine NaN in Seed"
   ]
  },
  {
   "cell_type": "code",
   "execution_count": 22,
   "id": "opposite-tract",
   "metadata": {},
   "outputs": [
    {
     "name": "stdout",
     "output_type": "stream",
     "text": [
      "(14000000, 13)\n",
      "89bebf4f200a853ac9a7b4dfec1edb160ade299fd60db12d0752bbfd882c6f45    224010\n",
      "deleted-account                                                      93543\n",
      "481f5d1579a33041518382518a5e108cfc1fea95f880d081023f533eb1afd82a     49577\n",
      "5477db661bbe6ff9fd509daf812fe50af4b6216f2b296c3cbf91c6b9e528fdce     38137\n",
      "ac2524ee4169c7f644f783de87f9bbfb96fa68b6e116dfb1f8b65274edaee97a     37524\n",
      "                                                                     ...  \n",
      "46b8b7b984d1d18b88cfcbaeac0728bb5aec9ef5c21e28831e8677d0621ed62e         1\n",
      "19aba8d820816e84f8866140660d476c013858c2b6407b98bc5db41218095ee4         1\n",
      "49788eeed56abc8f376073ce17f8097fdbdd3f70274ae2496c34f9543686a865         1\n",
      "d6473a7a475e429100b5178a0298ebdfdf8d8d27bfc6eceed9f5a8d148c4a4b4         1\n",
      "5e2d286338eb8cad8abb71c28c4d10cde5e4777a5ab8f9e39021c940b5de613f         1\n",
      "Name: user_name, Length: 10381, dtype: int64\n"
     ]
    }
   ],
   "source": [
    "print(df_large.shape)\n",
    "print(df_large.user_name.value_counts())"
   ]
  },
  {
   "cell_type": "code",
   "execution_count": 25,
   "id": "loose-vanilla",
   "metadata": {},
   "outputs": [
    {
     "name": "stdout",
     "output_type": "stream",
     "text": [
      "                                    image_name  \\\n",
      "531  5c91c55e-2997-4c8f-a352-d7a55c9101ad.webp   \n",
      "532  23756e3c-a208-4b22-9da0-389a20fc8fd1.webp   \n",
      "533  c74875dd-4fca-4d3c-b72b-cd1857386c1c.webp   \n",
      "534  dba6e669-c61f-4858-bdea-fa1c1632b772.webp   \n",
      "535  a78de037-1e01-449a-80d9-09fac1957160.webp   \n",
      "536  6027269e-c39a-4f7f-a06a-4a2f6b57d7e3.webp   \n",
      "537  a61eb078-41ce-4358-ba3e-2402c61a32b4.webp   \n",
      "538  827309b2-38cd-4fdd-a627-042e50fc5f8a.webp   \n",
      "539  03015b95-b837-43f7-a5e5-6cf1814016b6.webp   \n",
      "540  0924f662-e63f-4d6e-8757-ac2e061cf273.webp   \n",
      "\n",
      "                                                                                                                                                                                                                                        prompt  \\\n",
      "531  mount epic expedition bloodswarmer screenshot world of warcraft mounts worldboss bioluminecant light concept sketch art and by feng zhu alena aenami artworks in 4 k beeple, by thomas kinkade heartstone overwatch blizzard 3 d rtx hdr    \n",
      "532  mount epic expedition bloodswarmer screenshot world of warcraft mounts worldboss bioluminecant light concept sketch art and by feng zhu alena aenami artworks in 4 k beeple, by thomas kinkade heartstone overwatch blizzard 3 d rtx hdr    \n",
      "533  mount epic expedition bloodswarmer screenshot world of warcraft mounts worldboss bioluminecant light concept sketch art and by feng zhu alena aenami artworks in 4 k beeple, by thomas kinkade heartstone overwatch blizzard 3 d rtx hdr    \n",
      "534  mount epic expedition bloodswarmer screenshot world of warcraft mounts worldboss bioluminecant light concept sketch art and by feng zhu alena aenami artworks in 4 k beeple, by thomas kinkade heartstone overwatch blizzard 3 d rtx hdr    \n",
      "535       mount epic swift olive raptor screenshot world of warcraft mounts worldboss bioluminecant light concept sketch art and by feng zhu alena aenami artworks in 4 k beeple, by thomas kinkade heartstone overwatch blizzard 3 d rtx hdr    \n",
      "536       mount epic swift olive raptor screenshot world of warcraft mounts worldboss bioluminecant light concept sketch art and by feng zhu alena aenami artworks in 4 k beeple, by thomas kinkade heartstone overwatch blizzard 3 d rtx hdr    \n",
      "537       mount epic swift olive raptor screenshot world of warcraft mounts worldboss bioluminecant light concept sketch art and by feng zhu alena aenami artworks in 4 k beeple, by thomas kinkade heartstone overwatch blizzard 3 d rtx hdr    \n",
      "538       mount epic swift olive raptor screenshot world of warcraft mounts worldboss bioluminecant light concept sketch art and by feng zhu alena aenami artworks in 4 k beeple, by thomas kinkade heartstone overwatch blizzard 3 d rtx hdr    \n",
      "539       mount epic great purple elekk screenshot world of warcraft mounts worldboss bioluminecant light concept sketch art and by feng zhu alena aenami artworks in 4 k beeple, by thomas kinkade heartstone overwatch blizzard 3 d rtx hdr    \n",
      "540       mount epic great purple elekk screenshot world of warcraft mounts worldboss bioluminecant light concept sketch art and by feng zhu alena aenami artworks in 4 k beeple, by thomas kinkade heartstone overwatch blizzard 3 d rtx hdr    \n",
      "\n",
      "     part_id        seed  step   cfg  sampler  width  height  \\\n",
      "531        1  1306437380    50  12.0        8    768     512   \n",
      "532        1  1341991387    50  12.0        8    768     512   \n",
      "533        1  2726036640    50  12.0        8    768     512   \n",
      "534        1  1629868457    50  12.0        8    768     512   \n",
      "535        1  2797312217    50  12.0        8    768     512   \n",
      "536        1  1770056517    50  12.0        8    768     512   \n",
      "537        1  3673534016    50  12.0        8    768     512   \n",
      "538        1  1681093498    50  12.0        8    768     512   \n",
      "539        1  1124766567    50  12.0        8    768     512   \n",
      "540        1  2844730023    50  12.0        8    768     512   \n",
      "\n",
      "                                                            user_name  \\\n",
      "531  89bebf4f200a853ac9a7b4dfec1edb160ade299fd60db12d0752bbfd882c6f45   \n",
      "532  89bebf4f200a853ac9a7b4dfec1edb160ade299fd60db12d0752bbfd882c6f45   \n",
      "533  89bebf4f200a853ac9a7b4dfec1edb160ade299fd60db12d0752bbfd882c6f45   \n",
      "534  89bebf4f200a853ac9a7b4dfec1edb160ade299fd60db12d0752bbfd882c6f45   \n",
      "535  89bebf4f200a853ac9a7b4dfec1edb160ade299fd60db12d0752bbfd882c6f45   \n",
      "536  89bebf4f200a853ac9a7b4dfec1edb160ade299fd60db12d0752bbfd882c6f45   \n",
      "537  89bebf4f200a853ac9a7b4dfec1edb160ade299fd60db12d0752bbfd882c6f45   \n",
      "538  89bebf4f200a853ac9a7b4dfec1edb160ade299fd60db12d0752bbfd882c6f45   \n",
      "539  89bebf4f200a853ac9a7b4dfec1edb160ade299fd60db12d0752bbfd882c6f45   \n",
      "540  89bebf4f200a853ac9a7b4dfec1edb160ade299fd60db12d0752bbfd882c6f45   \n",
      "\n",
      "                    timestamp  image_nsfw  prompt_nsfw  \n",
      "531 2022-08-20 09:30:00+00:00    0.080630     0.001065  \n",
      "532 2022-08-20 09:30:00+00:00    0.080592     0.001065  \n",
      "533 2022-08-20 09:30:00+00:00    0.075654     0.001065  \n",
      "534 2022-08-20 09:30:00+00:00    0.050372     0.001065  \n",
      "535 2022-08-20 10:59:00+00:00    0.085626     0.002059  \n",
      "536 2022-08-20 10:59:00+00:00    0.091593     0.002059  \n",
      "537 2022-08-20 10:59:00+00:00    0.066272     0.002059  \n",
      "538 2022-08-20 10:59:00+00:00    0.082520     0.002059  \n",
      "539 2022-08-20 11:02:00+00:00    0.131847     0.001194  \n",
      "540 2022-08-20 11:02:00+00:00    0.133744     0.001194  \n"
     ]
    }
   ],
   "source": [
    "pd.set_option('display.max_colwidth', None)\n",
    "\n",
    "print(df_large[df_large.user_name == \"89bebf4f200a853ac9a7b4dfec1edb160ade299fd60db12d0752bbfd882c6f45\"].head(10))"
   ]
  },
  {
   "cell_type": "code",
   "execution_count": null,
   "id": "median-basket",
   "metadata": {},
   "outputs": [],
   "source": [
    "df.shape"
   ]
  },
  {
   "cell_type": "code",
   "execution_count": 21,
   "id": "compound-lambda",
   "metadata": {},
   "outputs": [
    {
     "data": {
      "text/plain": [
       "1819808"
      ]
     },
     "execution_count": 21,
     "metadata": {},
     "output_type": "execute_result"
    }
   ],
   "source": [
    "len(df_large[\"prompt\"].unique())"
   ]
  },
  {
   "cell_type": "code",
   "execution_count": null,
   "id": "liable-turkey",
   "metadata": {},
   "outputs": [],
   "source": [
    "# save to csv for human readability\n",
    "df.to_csv(\"sources/metadata.csv\", escapechar = \"\\\\\")\n",
    "df_large.to_csv(\"sources/metadata-large.csv\", escapechar = \"\\\\\")"
   ]
  },
  {
   "cell_type": "markdown",
   "id": "informative-hypothesis",
   "metadata": {},
   "source": [
    "# Exact matching\n",
    "\n",
    "TODO we need to check how to improve this\n",
    "\n",
    "some artists are not found from the copy paste name, since that name is too explicit, e.g.\n",
    "Friedensreich Regentag Dunkelbunt Hundertwasser\n",
    "see playground"
   ]
  },
  {
   "cell_type": "markdown",
   "id": "blocked-bachelor",
   "metadata": {},
   "source": [
    "## Extract artists from Prompts"
   ]
  },
  {
   "cell_type": "code",
   "execution_count": null,
   "id": "miniature-audio",
   "metadata": {},
   "outputs": [],
   "source": [
    "# Unique prompts\n",
    "cols = [\"prompt\", \"image_name\",\"user_name\"]\n",
    "\n",
    "cp = df_large[cols].copy()\n",
    "cp = cp.drop_duplicates(subset=\"prompt\")\n",
    "artist_names = excel_artist_names\n",
    "artist_names = [x.lower() for x in artist_names]\n",
    "\n",
    "cp['artists'] = cp['prompt'].map(\n",
    "        lambda p: my_utils.extract_artists_exact(p, artist_names))\n",
    "cp[\"num_artists\"] = cp['artists'].map(\n",
    "        lambda p: len(p))\n",
    "print(cp.head())\n",
    "cp.to_parquet(\"../results/artists_exact_match_large.parquet\")\n",
    "cp.to_csv(\"../results/artists_exact_match_large.csv\", escapechar=\"\\\\\")\n",
    "print(f'Artists extracted')"
   ]
  },
  {
   "cell_type": "code",
   "execution_count": null,
   "id": "lightweight-ebony",
   "metadata": {},
   "outputs": [],
   "source": [
    "# Total prompts\n",
    "cols = [\"prompt\", \"image_name\",\"user_name\"]\n",
    "\n",
    "cp = df_large[cols].copy()\n",
    "artist_names = excel_artist_names\n",
    "artist_names = [x.lower() for x in artist_names]\n",
    "\n",
    "cp['artists'] = cp['prompt'].map(\n",
    "        lambda p: my_utils.extract_artists_exact(p, artist_names))\n",
    "cp[\"num_artists\"] = cp['artists'].map(\n",
    "        lambda p: len(p))\n",
    "print(cp.head())\n",
    "cp.to_parquet(\"../results/artists_exact_match_large_all_prompts.parquet\")\n",
    "cp.to_csv(\"../results/artists_exact_match_large_all_prompts.csv\", escapechar=\"\\\\\")\n",
    "print(f'Artists extracted')"
   ]
  },
  {
   "cell_type": "markdown",
   "id": "naval-intelligence",
   "metadata": {},
   "source": [
    "## Count Artist Mentions"
   ]
  },
  {
   "cell_type": "code",
   "execution_count": 1,
   "id": "tough-carroll",
   "metadata": {},
   "outputs": [
    {
     "name": "stdout",
     "output_type": "stream",
     "text": [
      "prompt         object\n",
      "image_name     object\n",
      "artists        object\n",
      "num_artists     int64\n",
      "dtype: object\n",
      "0 Alvar Aalto\n",
      "analysing 1 artists took 0.01518559455871582 minutes\n",
      "time remaining estimate 52.8914258480072 minutes\n",
      "1 Slim Aarons\n",
      "analysing 2 artists took 0.030604982376098634 minutes\n",
      "time remaining estimate 53.28327431678772 minutes\n",
      "2 Edwin Austin Abbey\n",
      "analysing 3 artists took 0.046196266015370684 minutes\n",
      "time remaining estimate 53.603067333168454 minutes\n",
      "3 Gertrude Abercrombie\n",
      "analysing 4 artists took 0.06205739974975586 minutes\n",
      "time remaining estimate 53.9899377822876 minutes\n",
      "4 Marina Abramović\n",
      "analysing 5 artists took 0.07790478467941284 minutes\n",
      "time remaining estimate 54.20614917993546 minutes\n",
      "5 Tomma Abts\n",
      "analysing 6 artists took 0.09367370208104452 minutes\n",
      "time remaining estimate 54.299522639645474 minutes\n",
      "6 Vito Acconci\n",
      "analysing 7 artists took 0.10877883831659953 minutes\n",
      "time remaining estimate 54.03200297525951 minutes\n",
      "7 Andreas Achenbach\n",
      "analysing 8 artists took 0.12386554876963297 minutes\n",
      "time remaining estimate 53.81958094040553 minutes\n",
      "8 Norman Ackroyd\n",
      "analysing 9 artists took 0.13885962963104248 minutes\n",
      "time remaining estimate 53.615245885319176 minutes\n",
      "9 Ansel Adams\n",
      "analysing 10 artists took 0.1538102587064107 minutes\n",
      "time remaining estimate 53.43368387460709 minutes\n",
      "10 Arthur Adams\n",
      "analysing 11 artists took 0.16884251832962036 minutes\n",
      "time remaining estimate 53.308187832615594 minutes\n",
      "11 Neal Adams\n",
      "analysing 12 artists took 0.18489678303400675 minutes\n",
      "time remaining estimate 53.49680255783929 minutes\n",
      "12 Josh Adamski\n",
      "analysing 13 artists took 0.20109114646911622 minutes\n",
      "time remaining estimate 53.69133610725403 minutes\n",
      "13 Charles Addams\n",
      "analysing 14 artists took 0.21683271725972494 minutes\n",
      "time remaining estimate 53.74353777794611 minutes\n",
      "14 Etel Adnan\n",
      "finished\n"
     ]
    }
   ],
   "source": [
    "import pandas as pd\n",
    "import my_utils\n",
    "import time\n",
    "\n",
    "excel_artist_names = my_utils.read_lines_as_list(\"sources/excel_artists_copy_paste_name.txt\")\n",
    "exact_matches = pd.read_parquet('results/artists_exact_match_large.parquet', engine='pyarrow')\n",
    "print(exact_matches.dtypes)\n",
    "\n",
    "\n",
    "cols = [\"artist\", \"mentions\"]\n",
    "\n",
    "artist_mentions =  pd.DataFrame(columns=cols)\n",
    "\n",
    "starttime = time.time()\n",
    "c=0\n",
    "for name in excel_artist_names:\n",
    "    print(f'{c} {name}',flush=True)\n",
    "    \n",
    "    \n",
    "    c+=1\n",
    "    if c == 15:\n",
    "          break\n",
    "    new_row = dict()\n",
    "    new_row['artist'] = name\n",
    "    mdf = my_utils.exact_match_dataframe(exact_matches, name)\n",
    "    #print(mdf)\n",
    "    new_row['mentions'] = mdf.shape[0]\n",
    "    \n",
    "    new_row = pd.Series(new_row)\n",
    "    #print(new_row)\n",
    "    \n",
    "    artist_mentions = pd.concat([artist_mentions, new_row.to_frame().T], ignore_index=True)\n",
    "    \n",
    "    duration = time.time() - starttime\n",
    "    print(f'analysing {c} artists took {duration / 60} minutes',flush=True)\n",
    "    print(f'time remaining estimate {(duration/c)*(len(excel_artist_names)-c)/60} minutes',flush=True)\n",
    "\n",
    "artist_mentions.sort_values(\"mentions\", axis=0, ascending=False, inplace=True)\n",
    "    \n",
    "artist_mentions.to_csv(\"results/artist_mentions.csv\", escapechar = \"\\\\\")\n",
    "artist_mentions.to_parquet(\"results/artist_mentions.parquet\")\n",
    "print(\"finished\")"
   ]
  },
  {
   "cell_type": "markdown",
   "id": "mechanical-penalty",
   "metadata": {},
   "source": [
    "# Fuzzy Matching"
   ]
  },
  {
   "cell_type": "code",
   "execution_count": null,
   "id": "interested-portugal",
   "metadata": {},
   "outputs": [],
   "source": []
  },
  {
   "cell_type": "code",
   "execution_count": null,
   "id": "egyptian-display",
   "metadata": {},
   "outputs": [],
   "source": [
    "import time\n",
    "import my_utils\n",
    "\n",
    "starttime = time.time()\n",
    "\n",
    "n = 1000\n",
    "similarity_threshold = 0.8\n",
    "\n",
    "df_reduced = df.head(n).copy()\n",
    "assert df_reduced.shape[0] == n, f'shape is {df_reduced.shape[0]}'\n",
    "\n",
    "artist_list = hundred_artist_names\n",
    "df_reduced['artists'] = df_reduced['prompt'].map(\n",
    "        lambda p: my_utils.extract_artists_fuzzy(p, artist_list, similarity_threshold))\n",
    "df_reduced.to_parquet(f'{n}_entries.parquet')\n",
    "df_reduced.to_csv(f'{n}_entries.csv')\n",
    "\n",
    "duration = (time.time()-starttime)\n",
    "print(f'processing took {duration/60} minutes, average {duration/n} seconds per row for {len(artist_list)} artists')\n",
    "\n",
    "goal = 1600000\n",
    "print(f'for {goal} entries it would take approximately {duration/n * goal / 60 / 60} hours')\n",
    "\n",
    "\n",
    "df_reduced['artists_amount'] = df_reduced['artists'].apply(\n",
    "        lambda query: len(query))\n",
    "    \n",
    "entries_with_artists = df_reduced.loc[df_reduced['artists_amount'] > 0, [\"image_name\", \"prompt\",\"user_name\",\"artists\",\"artists_amount\"]]\n",
    "entries_with_artists.to_parquet(\"artists_filtered.parquet\")\n",
    "entries_with_artists.to_csv(\"artists_filtered.csv\")\n",
    "\n",
    "# prognose: 933.333333333 stunden für den gesamten Datensatz (mit allen Namen aus )\n",
    "\n",
    "# prognose: 0.11 * 1600000 /60 /60 = 48 stunden für nur die Namen aus 100_copy_paste_names.txt"
   ]
  },
  {
   "cell_type": "code",
   "execution_count": null,
   "id": "general-arthur",
   "metadata": {},
   "outputs": [],
   "source": []
  }
 ],
 "metadata": {
  "kernelspec": {
   "display_name": "my env conda",
   "language": "python",
   "name": "conda"
  },
  "language_info": {
   "codemirror_mode": {
    "name": "ipython",
    "version": 3
   },
   "file_extension": ".py",
   "mimetype": "text/x-python",
   "name": "python",
   "nbconvert_exporter": "python",
   "pygments_lexer": "ipython3",
   "version": "3.10.9"
  }
 },
 "nbformat": 4,
 "nbformat_minor": 5
}

{
 "cells": [
  {
   "cell_type": "markdown",
   "id": "protected-diving",
   "metadata": {},
   "source": [
    "# Chi Square Test\n",
    "\n",
    "\n",
    "https://passel2.unl.edu/view/lesson/9beaa382bf7e/8#:~:text=If%20your%20chi%2Dsquare%20calculated,to%20reject%22%20your%20null%20hypothesis.\n",
    "\n",
    "If your chi-square calculated value is greater than the chi-square critical value, then you reject your null hypothesis.\n",
    "Rejecting hypothesis means we assume something other than chance was at play."
   ]
  },
  {
   "cell_type": "code",
   "execution_count": 1,
   "id": "manufactured-thousand",
   "metadata": {},
   "outputs": [],
   "source": [
    "chi_square_value=6.35 # value for 0.01 configence (should only occur in 0.01 of all cases other than by chance)"
   ]
  },
  {
   "cell_type": "code",
   "execution_count": 2,
   "id": "mysterious-strategy",
   "metadata": {},
   "outputs": [
    {
     "name": "stdout",
     "output_type": "stream",
     "text": [
      "exact match shapes (1819808, 5)\n"
     ]
    }
   ],
   "source": [
    "import pandas as pd\n",
    "#df = pd.read_parquet('sources/metadata.parquet', engine='pyarrow')\n",
    "#df_large = pd.read_parquet('sources/metadata-large.parquet', engine='pyarrow')\n",
    "\n",
    "exact_matches = pd.read_parquet(\"../results/artists_exact_match_large.parquet\", engine='pyarrow')\n",
    "assert \"artists\" in exact_matches.columns, f'artists is not in {exact_matches.columns}'\n",
    "assert \"num_artists\" in exact_matches.columns, f'num_artists is not in {exact_matches.columns}'\n",
    "\n",
    "print(f'exact match shapes {exact_matches.shape}')\n",
    "\n",
    "# read excel_artist_names\n",
    "import my_utils\n",
    "\n",
    "excel_artist_names = my_utils.read_lines_as_list(\"../sources/excel_artists_copy_paste_name.txt\")\n",
    "hundred_artist_names = excel_artist_names[0:100]\n",
    "ten_artist_names = excel_artist_names[0:10]\n",
    "\n",
    "\n",
    "artist_mentions = pd.read_parquet('../results/artist_mentions.parquet', engine='pyarrow')"
   ]
  },
  {
   "cell_type": "code",
   "execution_count": 8,
   "id": "affiliated-breeding",
   "metadata": {},
   "outputs": [],
   "source": [
    "import wordcloud\n",
    "from collections import defaultdict\n",
    "import re\n",
    "\n",
    "def read_stopwords():\n",
    "    # from https://gist.github.com/sebleier/554280\n",
    "    return my_utils.read_lines_as_list(\"stopwords.txt\")\n",
    "\n",
    "def compute_freq(df, col, sw):\n",
    "    # print(sw)\n",
    "    freq = defaultdict(lambda: 0)\n",
    "    for i, row in df.iterrows():\n",
    "        string = row[col]\n",
    "        for s in re.split(\"[, \\-!?:]+\", string):\n",
    "            s=s.strip().lower()\n",
    "            if s not in sw:\n",
    "                if len(s)>0:\n",
    "                    if s == \"cannonsiin\":\n",
    "                        print(f'before {s} {freq[s]}')\n",
    "                    \n",
    "                    freq[s]=freq[s]+1\n",
    "                    if s == \"cannonsiin\":\n",
    "                        print(f'after {s} {freq[s]}')\n",
    "    return freq\n",
    "\n"
   ]
  },
  {
   "cell_type": "code",
   "execution_count": 4,
   "id": "particular-class",
   "metadata": {},
   "outputs": [
    {
     "name": "stdout",
     "output_type": "stream",
     "text": [
      "finished\n",
      "finished\n"
     ]
    }
   ],
   "source": [
    "stopwords=read_stopwords()\n",
    "stopwords.append(\"greg\")\n",
    "stopwords.append(\"rutkowski\")\n",
    "\n",
    "freqs = compute_freq(exact_matches, \"prompt\", stopwords)\n",
    "print(f'finished')\n",
    "\n",
    "greg_df = my_utils.exact_match_dataframe(exact_matches, \"greg rutkowski\")\n",
    "freqs_greg = compute_freq(greg_df, \"prompt\", stopwords)\n",
    "print(f'finished')"
   ]
  },
  {
   "cell_type": "code",
   "execution_count": null,
   "id": "emerging-drove",
   "metadata": {},
   "outputs": [],
   "source": []
  },
  {
   "cell_type": "code",
   "execution_count": 5,
   "id": "smart-michael",
   "metadata": {},
   "outputs": [
    {
     "name": "stdout",
     "output_type": "stream",
     "text": [
      "221758 items in plain, 46543 items in greg\n",
      "amount of queries for greg 180080\n",
      "['rimworld concept art isometric perspective, epic, by victo ngai, kilian eng vibrant colours, dynamic lighting, digital art, winning award masterpiece, fantastically beautiful, illustration, inspired by beksinski and dan mumford, trending on artstation, by greg rutkowski, 8 k '\n",
      " 'realistic streetview, retro futuristic suburban scene, brutal architecture, straight edged buildings, street signs, detailed shop facades, neon signs, video screens, traffic lights, street lights, pedestrians, jodhpurs greg manchess painting by sargent and leyendecker, cyberpunk 2 0 7 7 concept intricate elegant illustration forza, by greg rutkowski by greg tocchini by james gilleard '\n",
      " 'street scene, brutal architecture, retro futuristic concept cars, low profile tires, detailed chrome trim, jodhpurs greg manchess painting by sargent and leyendecker, cyberpunk 2 0 7 7 concept intricate elegant illustration forza, by greg rutkowski by greg tocchini by james gilleard '\n",
      " 'retro futuristic concept cars, low profile tires, detailed chrome trim, jodhpurs greg manchess painting by sargent and leyendecker, cyberpunk 2 0 7 7 concept intricate elegant illustration forza, by greg rutkowski by greg tocchini by james gilleard '\n",
      " 'closeup portrait of a beautiful mysterious woman warrior wearing armour, holding a bouquet of flowers, hands disappeared under the bouquet, flowing hair, underwater, bubbles from the mouth, fantasy, regal, intricate, art nouveau, swirly intricate linework background by stanley artgerm lau, greg rutkowski, thomas kinkade, alphonse mucha, loish, norman rockwell ']\n",
      "amount of words with higher than threshold chi value: 16054\n",
      "            word    chi_values  word_frequency\n",
      "0       alphonse  82679.416222           52558\n",
      "1          mucha  74982.860346           53139\n",
      "2        artgerm  73117.029308           66604\n",
      "3            art  53607.507741          174496\n",
      "4          focus  37661.783209           63441\n",
      "5          sharp  37074.282470           66179\n",
      "6        concept  33740.279491           69337\n",
      "7   illustration  30076.974311           60054\n",
      "8        digital  28611.620770           74957\n",
      "9     artstation  23547.197837           97624\n",
      "10        highly  22596.914288           74699\n",
      "11       elegant  21057.128168           33560\n",
      "12     intricate  20759.848025           62426\n",
      "13        smooth  19979.522041           34989\n",
      "14       fantasy  18155.070119           45067\n",
      "15      painting  15472.148976           86932\n",
      "16   hearthstone  12039.455384            6212\n",
      "17         photo  10799.088151            5420\n",
      "18             &  10741.722698           12285\n",
      "19      detailed   9631.431139          116662\n",
      "20          wlop   9431.960638           19887\n",
      "21             d   9305.371743           27020\n",
      "22         loish   9017.769163            7360\n",
      "23      tocchini   8967.892492            3971\n",
      "24            wu   7660.195281            5123\n",
      "25             0   7546.975930            6668\n",
      "26        magali   7221.490469            6482\n",
      "27          knab   6966.114452            3386\n",
      "28     ferdinand   6846.491270            3415\n",
      "29         tooth   6644.661129            4228\n",
      "30           d&d   6595.277147            4907\n",
      "31      portrait   6143.282205           68579\n",
      "32         bliss   5915.296340            3514\n",
      "33       stephen   5582.192190            4334\n",
      "34          ilya   5580.808225           12511\n",
      "35        fanbox   5579.526415            3471\n",
      "36     kuvshinov   5355.669021           11954\n",
      "37       shinkai   5247.210370           11319\n",
      "38    villeneuve   5142.809001            6583\n",
      "39       bagshaw   5106.434250            6419\n"
     ]
    }
   ],
   "source": [
    "\n",
    "import chi_values as cv\n",
    "\n",
    "print(f'{len(freqs.keys())} items in plain, {len(freqs_greg.keys())} items in greg')\n",
    "\n",
    "chi_values = cv.chi_value_dataframe(freqs, freqs_greg)\n",
    "\n",
    "print(f'amount of queries for greg {greg_df.shape[0]}')\n",
    "print(greg_df.head().prompt.values)\n",
    "\n",
    "print(f'amount of words with higher than threshold chi value: {chi_values[chi_values[\"chi_values\"]>=chi_square_value].shape[0]}')\n",
    "\n",
    "print(chi_values.head(40))\n"
   ]
  },
  {
   "cell_type": "markdown",
   "id": "permanent-event",
   "metadata": {},
   "source": [
    "# Cluster Artists by Chi Square Values\n",
    "\n",
    "First we need to find out which words to use for the artist features.\n",
    "For this we can use the words ranked by chi values for the individual artists."
   ]
  },
  {
   "cell_type": "code",
   "execution_count": 15,
   "id": "secondary-wright",
   "metadata": {},
   "outputs": [
    {
     "name": "stdout",
     "output_type": "stream",
     "text": [
      "exact_matches shape (1819808, 5)\n",
      "before cannonsiin 0\n",
      "after cannonsiin 1\n",
      "cannonsiin counts all 1\n",
      "(180080, 6)\n",
      "before cannonsiin 0\n",
      "after cannonsiin 1\n",
      "cannonsiin counts other 1\n",
      "(136220, 6)\n",
      "cannonsiin counts other 1\n",
      "(63075, 6)\n",
      "cannonsiin counts other 1\n",
      "       word     chi_values  word_frequency      word     chi_values  \\\n",
      "0  alphonse  162005.420188           52558  alphonse  167279.675874   \n",
      "1     mucha  142250.798336           53139     mucha  161666.017410   \n",
      "2       art   82915.079017          174496     focus   93792.212552   \n",
      "3     focus   61307.562108           63441   stanley   81499.852025   \n",
      "4     sharp   59990.473292           66179     sharp   76748.249468   \n",
      "\n",
      "   word_frequency          word    chi_values  word_frequency  \n",
      "0           47178  riabovitchev  66067.235944            5251  \n",
      "1           49381           lau  55952.187030            6401  \n",
      "2           62927        andrei  55129.329196            5297  \n",
      "3           13805         tooth  53856.656015            4803  \n",
      "4           61751            wu  42969.764204            4919  \n"
     ]
    }
   ],
   "source": [
    "import copy\n",
    "\n",
    "artists = [\"greg rutkowski\", \"artgerm\", \"wlop\"]\n",
    "\n",
    "stopwords=read_stopwords()\n",
    "for a in artists:\n",
    "    stopwords.extend(a.split(\" \"))\n",
    "# print(stopwords)\n",
    "\n",
    "print(f'exact_matches shape {exact_matches.shape}')\n",
    "\n",
    "freqs_all = compute_freq(exact_matches, \"prompt\", stopwords)\n",
    "print(f'cannonsiin counts all {freqs_all[\"cannonsiin\"]}')\n",
    "for index, artist in enumerate(artists):\n",
    "    \n",
    "    artist_df = my_utils.exact_match_dataframe(exact_matches, artist)\n",
    "    print(artist_df.shape)\n",
    "    assert artist_df.shape[0]>0\n",
    "    freqs_artist = compute_freq(artist_df, \"prompt\", stopwords)\n",
    "    \n",
    "    frequencies_other = copy.deepcopy(freqs_all)\n",
    "    print(f'cannonsiin counts other {freqs_all[\"cannonsiin\"]}')\n",
    "    for key, value in frequencies_other.items():\n",
    "        #if value == 0:\n",
    "            #print(f'{key} {value}')\n",
    "        assert value > 0, f'value must be bigger than 0 since we go over all prompts, word {key}'\n",
    "        assert frequencies_other[key] >= freqs_artist[key], f'frequency of {key} in entire should be higher or equal to specific, {frequencies_other[key]} {freqs_artist[key]}'\n",
    "        frequencies_other[key] = max(frequencies_other[key] - freqs_artist[key], 0)\n",
    "    \n",
    "    artist_chi_df = cv.chi_value_dataframe(frequencies_other, freqs_artist)\n",
    "    #chi_df.drop([\"word_frequency\"], axis=1, inplace=True)\n",
    "    artist_chi_df.rename({\"word_frequency\": f'frequency_{artist}',\"chi_values\": f'chi_values_{artist}', \"word\": f'word_{artist}'}, axis='columns', inplace=True)\n",
    "    \n",
    "    if index == 0:\n",
    "        chi_df = artist_chi_df.copy()\n",
    "    else:\n",
    "        chi_df = pd.concat([chi_df, artist_chi_df], axis=1)\n",
    "\n",
    "print(chi_df.head())\n",
    "\n"
   ]
  },
  {
   "cell_type": "code",
   "execution_count": null,
   "id": "polished-medication",
   "metadata": {},
   "outputs": [],
   "source": []
  }
 ],
 "metadata": {
  "kernelspec": {
   "display_name": "my env conda",
   "language": "python",
   "name": "conda"
  },
  "language_info": {
   "codemirror_mode": {
    "name": "ipython",
    "version": 3
   },
   "file_extension": ".py",
   "mimetype": "text/x-python",
   "name": "python",
   "nbconvert_exporter": "python",
   "pygments_lexer": "ipython3",
   "version": "3.10.9"
  }
 },
 "nbformat": 4,
 "nbformat_minor": 5
}
